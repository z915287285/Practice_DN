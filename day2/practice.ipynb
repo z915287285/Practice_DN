{
 "cells": [
  {
   "cell_type": "heading",
   "metadata": {
    "collapsed": true
   },
   "level": 1,
   "source": [
    "Day2"
   ]
  },
  {
   "cell_type": "markdown",
   "metadata": {},
   "source": [
    "## pass\n",
    "### 作用：\n",
    "\t- 通常用来填充语法空白  pass 又名空语句\n",
    "## 布尔运算\n",
    "### 运算符\n",
    "\tnot and  or\n",
    "- 布尔非操作 not\n",
    "\n",
    "\t语法：\n",
    "\t\tnot x\n",
    "\t作用：\n",
    "\t\t对x进行布尔取非，如bool（x)为True，否则返回False\n",
    "\n",
    "- 布尔与操作 and\n",
    "\n",
    "\t语法：\n",
    "\t\tx and y  （注：x,y代表表达式)\n",
    "\t作用 ：\n",
    "\t\t优先返回假值对象，当x的布尔值为False时，返回x,否则返回y\n",
    "\t说明：\n",
    "\t\t只有同时为True，才为True\n",
    "\t\t否则为False\n",
    "- 布尔或操作 or\n",
    "\t语法：\n",
    "\t\tx or y\n",
    "\t作用：\n",
    "\t\t优先返回真值对象，当x为True是返回x,否则返回y\n",
    "\t\t同时为False，才为False\n",
    "\t\t只要有一个为True，就为True\n",
    "## 字符串\n",
    "- 作用：\n",
    "\t用来记录文字（文本）信息\n",
    "- 表示方式：\n",
    "\t- 在注释中凡是用引号括起来的部分都是字符串\n",
    "\n",
    "\t\t- ''\t\t单引号\n",
    "\n",
    "\t\t- \"\"\t\t双引号\n",
    "\n",
    "\t\t- '''\t'''\t三单引号\n",
    "\n",
    "\t\t- \"\"\"\t\"\"\"\t三双引号\n",
    "\n",
    "\t- 空字符串字面值表示方式：\n",
    "\n",
    "\t\t- ''\t\t单引号\n",
    "\n",
    "\t\t- \"\"\t\t双引号\n",
    "\n",
    "\t\t- '''\t'''\t三单引号\n",
    "\n",
    "\t\t- \"\"\"\t\"\"\"\t三双引号\n",
    "\n",
    "\t- 非空字符串的字面值表示方式：\n",
    "\n",
    "\t\t- 'hello'\t\t单引号\n",
    "\n",
    "\t\t- \"hello\"\t\t双引号\n",
    "\n",
    "\t\t- '''hello'''\t三单引号\n",
    "\n",
    "\t\t- \"\"\"hello\"\"\"\t三双引号\n",
    "\n",
    "\t- 单引号与双引号的区别\n",
    "\n",
    "\t- 单引号内的双引号不算结束符\n",
    "\n",
    "\t- 双引号内的单引号不算结束符\n",
    "\n",
    "\tprint(\"I'm a teacher\")\n",
    "\n",
    "\tprint('I am \"小白\"')\n",
    "三引号字符串的作用：\n",
    "\t- 三引号字符串可以包含单引号和双引号\n",
    "\t- 三引号字符串中的换行符是会自动转换为'/n'\n",
    "## 字符串的运算\n",
    "\t- 运算符：\n",
    "\t\t+ += * *=\n",
    "\t\t+ 用于拼接\n",
    "\t\t+= 用于原字符串和右字符串拼接，再用变量绑定新的字符串\n",
    "\t\t* 运算符生成重复的字符串\n",
    "\t\t*= 生成重复的字符串，再用原变量绑定\n",
    "\t- 比较运算\n",
    "\t\t运算符：< >  <= >= == !=\n",
    "\t\t比较规则：\n",
    "\t\t\t依次按照编码值进行俩俩字符比较，一旦不同，则比较结束，并返回比较结果，当编码值和长度完全相等时<br>\n",
    "\t\t\t两字符串相同\n",
    "\t\t字符串的编码转换函数\n",
    "\t\t\tord(c) 返回一个字符C的Unicode编码值\n",
    "\t\t\tchr(i) 返回i这个值的对应字符 \n",
    "\t\t运算符：\n",
    "\t\t\tin  / not  in\n",
    "\t\t\t- in 用于序列，字典，集合中，用于判断某个值是否存在于容器中，如果存在则返回True，否则返回False\n",
    "\t\t\t- not in 与 in 操作相反\n",
    "## 字符串基本操作\n",
    "Python字符串是不可以改变的字符序列\n",
    "- 索引取值语句：\n",
    "\t字符串[整数表达式]\n",
    "\t说明：\n",
    "\t\t- python的序列都可以用索引（index）来访问python序列中的对象\n",
    "\t\t- python的正向索引是从0开始，第二个索引为1，最后一个索引为len（x)-1\n",
    "\t\t- python序列的反向索引是从-1开始.\n",
    "\t正向索引\n",
    "\t反向索引\n",
    "切片操作\n",
    "\t- 作用：从字符串序列中取出相应的元素重新组成一个新的字符串\n",
    "\t- 语法：\n",
    "\t\t字符串[(index:end_index):(stride)]\n",
    "\t\tTips:小括号部分代表可省略\n",
    "\t- 说明：\n",
    "\t\t开始的索引是切片开始切下的位置，0代表第一个元素，1代表第二个元素，-1代表最后一个结束索引是切片的终止索引，（但不包括）\n",
    "\t\t步长是切片每次获取完当前元素后移动的方向和偏移量\n",
    "\t\t- 没有设置步长，就默认为1\n",
    "\t\t- 当步长为正整数，取正向切片：开始索引默认是最后一个元素的下一个位置\n",
    "\t\t- 挡步长为负整数，取反向切片：反向切片时，默认的起始位置为最后一个元素，终止位置是第一个元素的前一个位置\n",
    "字符串的格式化表达式\n",
    "\t作用：\n",
    "\t\t生成一定格式的字符串\n",
    "\t运算符%\n",
    "\t语法格式：\n",
    "\t\t格式化字符串%参数值\n",
    "\t\t格式化字符串%(参数1，参数2，参数3,....)\n",
    "\t说明：\n",
    "\t\t格式化字符串中以%开头的字符串占位符的位置将用参数代替\n",
    "\n",
    "## 循环语句\n",
    "### while循环\n",
    "### for循环\n",
    "- while语句\n",
    "\t作用：\n",
    "\t\t根据一定条件，重复执行一条语句或多条语句\n",
    "\twhile true：\n",
    "\t\t语句块一（该部分的语句可能或重复执行多次)\n",
    "\telse:\n",
    "\t\t语句块二\n",
    "\t说明：\n",
    "\t\t- 先执行真值表达式，得到布尔值为True或False\n",
    "\t\t- 如果真值表达式的值为True，则执行语句块1，然后再次返回到第一步，重复执行测试真值表达式的值\n",
    "\t\t- 如果真值表达式的值为False，则执行else部分子句，然后结束while语句执行\n",
    "\t\tTips：else子句可以省略\n",
    "注意：\n",
    "\t- 创建并初始化一个控制while循环的变量\n",
    "\t- 通过真值表达式来控制循环体\n",
    "\t- 通常用循环变量来控制循环条件，防止死循环\n",
    "\n",
    "while 循环的嵌套\n",
    "\twhile 语句本身就是语句，和其他语句一样，可以嵌套到任何复合语句中\n",
    "\t语法：\n",
    "\t\twhile 真值表达式：\n",
    "\t\t\t.....\n",
    "\t\t\twhile 真值表达式2：\n",
    "\t\t\t\t...\n",
    "\t\t\telse:\n",
    "\t\t\t\t...\n",
    "\t\telse:\n",
    "\t\t\t...\n",
    "break 语句\n",
    "\t问题：\n",
    "\t\t- 如果在循环过程中不想再继续循环语句的执行了，怎么办？\n",
    "\t\t- 可以用break语句结束循环\n",
    "\t作用：\n",
    "\t\t作用于循环语句(while,for语句中)，用来终止当前循环语句\n",
    "\t说明：\n",
    "\t\t- 当break语句执行后，此循环语句break之后，将不在执行\n",
    "\t\t- break通常与if组合使用\n",
    "\t\t- break 语句终止循环时，循环语句的else子句的语句不会执行\n",
    "\t\t- break 语句只能终止当前循环语句的执行，如果有循环嵌套时，不会跳出嵌套的外重循环\n",
    "\t\t- break 语句只能在循环语句(while for)内部使用\n",
    "\n",
    "- for 语句\n",
    "\t作用\n",
    "\t\t用来遍历可迭代对象的数据元素\n",
    "\t\n",
    "\t说明：\n",
    "\t当前循环体内用break终止循环时，else子句部分的语句不会执行else子句部分可以省略\n",
    "\t\n",
    "\trange()函数\n",
    "\t\trange(stop)用来生成0-stop之间内的整数，直到stop为止，不包含stop\n",
    "\t\trange(start,stop,step)用来生成start-stop区间内的整数，直到stop为止（不包含stop）每个整数间隔stop\n",
    "\t\t作用：用来创建一个生成一系列整数的可迭代对象(也叫序列生成器)\n"
   ]
  },
  {
   "cell_type": "markdown",
   "metadata": {},
   "source": [
    "### 练习：\n",
    "\n",
    "- 输入一个月份判断是否合法的月份\n",
    "- 写一个面试程序，要求是男士而且年龄小于五十岁才可以参加面试"
   ]
  },
  {
   "cell_type": "code",
   "execution_count": 1,
   "metadata": {},
   "outputs": [
    {
     "ename": "StdinNotImplementedError",
     "evalue": "raw_input was called, but this frontend does not support input requests.",
     "traceback": [
      "\u001b[0;31m---------------------------------------------------------------------------\u001b[0m",
      "\u001b[0;31mStdinNotImplementedError\u001b[0m                  Traceback (most recent call last)",
      "\u001b[0;32m<ipython-input-1-d0e75b012a27>\u001b[0m in \u001b[0;36m<module>\u001b[0;34m()\u001b[0m\n\u001b[0;32m----> 1\u001b[0;31m \u001b[0mmonth\u001b[0m\u001b[1;33m=\u001b[0m\u001b[0meval\u001b[0m\u001b[1;33m(\u001b[0m\u001b[0minput\u001b[0m\u001b[1;33m(\u001b[0m\u001b[1;33m)\u001b[0m\u001b[1;33m)\u001b[0m\u001b[1;33m\u001b[0m\u001b[1;33m\u001b[0m\u001b[0m\n\u001b[0m\u001b[1;32m      2\u001b[0m \u001b[1;32mif\u001b[0m \u001b[1;36m1\u001b[0m\u001b[1;33m<=\u001b[0m\u001b[0mmonth\u001b[0m \u001b[1;32mand\u001b[0m \u001b[0mmonth\u001b[0m \u001b[1;33m<=\u001b[0m\u001b[1;36m12\u001b[0m\u001b[1;33m:\u001b[0m\u001b[1;33m\u001b[0m\u001b[1;33m\u001b[0m\u001b[0m\n\u001b[1;32m      3\u001b[0m     \u001b[0mprint\u001b[0m\u001b[1;33m(\u001b[0m\u001b[1;34m\"月份合理\"\u001b[0m\u001b[1;33m)\u001b[0m\u001b[1;33m\u001b[0m\u001b[1;33m\u001b[0m\u001b[0m\n\u001b[1;32m      4\u001b[0m \u001b[1;32melse\u001b[0m\u001b[1;33m:\u001b[0m\u001b[1;33m\u001b[0m\u001b[1;33m\u001b[0m\u001b[0m\n\u001b[1;32m      5\u001b[0m     \u001b[0mprint\u001b[0m\u001b[1;33m(\u001b[0m\u001b[1;34m\"月份不合法\"\u001b[0m\u001b[1;33m)\u001b[0m\u001b[1;33m\u001b[0m\u001b[1;33m\u001b[0m\u001b[0m\n",
      "\u001b[0;32mE:\\pycharm\\anaconda3\\lib\\site-packages\\ipykernel\\kernelbase.py\u001b[0m in \u001b[0;36mraw_input\u001b[0;34m(self, prompt)\u001b[0m\n\u001b[1;32m    687\u001b[0m         \u001b[1;32mif\u001b[0m \u001b[1;32mnot\u001b[0m \u001b[0mself\u001b[0m\u001b[1;33m.\u001b[0m\u001b[0m_allow_stdin\u001b[0m\u001b[1;33m:\u001b[0m\u001b[1;33m\u001b[0m\u001b[1;33m\u001b[0m\u001b[0m\n\u001b[1;32m    688\u001b[0m             raise StdinNotImplementedError(\n\u001b[0;32m--> 689\u001b[0;31m                 \u001b[1;34m\"raw_input was called, but this frontend does not support input requests.\"\u001b[0m\u001b[1;33m\u001b[0m\u001b[1;33m\u001b[0m\u001b[0m\n\u001b[0m\u001b[1;32m    690\u001b[0m             )\n\u001b[1;32m    691\u001b[0m         return self._input_request(str(prompt),\n",
      "\u001b[0;31mStdinNotImplementedError\u001b[0m: raw_input was called, but this frontend does not support input requests."
     ],
     "output_type": "error"
    }
   ],
   "source": [
    "month=eval(input())\n",
    "if 1<=month and month <=12:\n",
    "    print(\"月份合理\")\n",
    "else:\n",
    "    print(\"月份不合法\")"
   ]
  },
  {
   "cell_type": "code",
   "execution_count": 2,
   "metadata": {},
   "outputs": [
    {
     "name": "stdout",
     "output_type": "stream",
     "text": [
      "请输入年龄：\n"
     ]
    },
    {
     "ename": "StdinNotImplementedError",
     "evalue": "raw_input was called, but this frontend does not support input requests.",
     "traceback": [
      "\u001b[0;31m---------------------------------------------------------------------------\u001b[0m",
      "\u001b[0;31mStdinNotImplementedError\u001b[0m                  Traceback (most recent call last)",
      "\u001b[0;32m<ipython-input-2-cad296bca508>\u001b[0m in \u001b[0;36m<module>\u001b[0;34m()\u001b[0m\n\u001b[1;32m      1\u001b[0m \u001b[1;31m# face progress\u001b[0m\u001b[1;33m\u001b[0m\u001b[1;33m\u001b[0m\u001b[1;33m\u001b[0m\u001b[0m\n\u001b[1;32m      2\u001b[0m \u001b[0mprint\u001b[0m\u001b[1;33m(\u001b[0m\u001b[1;34m\"请输入年龄：\"\u001b[0m\u001b[1;33m)\u001b[0m\u001b[1;33m\u001b[0m\u001b[1;33m\u001b[0m\u001b[0m\n\u001b[0;32m----> 3\u001b[0;31m \u001b[0mface_year\u001b[0m\u001b[1;33m=\u001b[0m\u001b[0meval\u001b[0m\u001b[1;33m(\u001b[0m\u001b[0minput\u001b[0m\u001b[1;33m(\u001b[0m\u001b[1;33m)\u001b[0m\u001b[1;33m)\u001b[0m\u001b[1;33m\u001b[0m\u001b[1;33m\u001b[0m\u001b[0m\n\u001b[0m\u001b[1;32m      4\u001b[0m \u001b[0mprint\u001b[0m\u001b[1;33m(\u001b[0m\u001b[1;34m\"请输入性别：（Male or Female）\"\u001b[0m\u001b[1;33m)\u001b[0m\u001b[1;33m\u001b[0m\u001b[1;33m\u001b[0m\u001b[0m\n\u001b[1;32m      5\u001b[0m \u001b[0mface_gender\u001b[0m\u001b[1;33m=\u001b[0m\u001b[0minput\u001b[0m\u001b[1;33m(\u001b[0m\u001b[1;33m)\u001b[0m\u001b[1;33m\u001b[0m\u001b[1;33m\u001b[0m\u001b[0m\n",
      "\u001b[0;32mE:\\pycharm\\anaconda3\\lib\\site-packages\\ipykernel\\kernelbase.py\u001b[0m in \u001b[0;36mraw_input\u001b[0;34m(self, prompt)\u001b[0m\n\u001b[1;32m    687\u001b[0m         \u001b[1;32mif\u001b[0m \u001b[1;32mnot\u001b[0m \u001b[0mself\u001b[0m\u001b[1;33m.\u001b[0m\u001b[0m_allow_stdin\u001b[0m\u001b[1;33m:\u001b[0m\u001b[1;33m\u001b[0m\u001b[1;33m\u001b[0m\u001b[0m\n\u001b[1;32m    688\u001b[0m             raise StdinNotImplementedError(\n\u001b[0;32m--> 689\u001b[0;31m                 \u001b[1;34m\"raw_input was called, but this frontend does not support input requests.\"\u001b[0m\u001b[1;33m\u001b[0m\u001b[1;33m\u001b[0m\u001b[0m\n\u001b[0m\u001b[1;32m    690\u001b[0m             )\n\u001b[1;32m    691\u001b[0m         return self._input_request(str(prompt),\n",
      "\u001b[0;31mStdinNotImplementedError\u001b[0m: raw_input was called, but this frontend does not support input requests."
     ],
     "output_type": "error"
    }
   ],
   "source": [
    "# face progress\n",
    "print(\"请输入年龄：\")\n",
    "face_year=eval(input())\n",
    "print(\"请输入性别：（Male or Female）\")\n",
    "face_gender=input()\n",
    "\n",
    "if 0<face_year<50 and face_gender =='Male':\n",
    "    print(\"允许面试\")\n",
    "else:\n",
    "    print(\"不符合面试要求\")"
   ]
  },
  {
   "cell_type": "code",
   "execution_count": 3,
   "metadata": {},
   "outputs": [
    {
     "name": "stdout",
     "output_type": "stream",
     "text": [
      "0\n0.1\n"
     ]
    }
   ],
   "source": [
    "print(0 and 0.01) # 优先返回假对象\n",
    "print(0 or 0.1) # 优先返回真对象"
   ]
  },
  {
   "cell_type": "code",
   "execution_count": 4,
   "metadata": {},
   "outputs": [
    {
     "name": "stdout",
     "output_type": "stream",
     "text": [
      "welcome to Beijing!\n I like python !\n I am Studying\nwelcome to Beijing\nI like python\nI am Studying\n\n"
     ]
    }
   ],
   "source": [
    "## 三引号字符串\n",
    "s='welcome to Beijing!\\n I like python !\\n I am Studying'\n",
    "print(s)\n",
    "s1='''welcome to Beijing\n",
    "I like python\n",
    "I am Studying\n",
    "'''\n",
    "print(s1)"
   ]
  },
  {
   "cell_type": "code",
   "execution_count": 7,
   "metadata": {},
   "outputs": [
    {
     "name": "stdout",
     "output_type": "stream",
     "text": [
      "True\n65\n66\nA\n"
     ]
    }
   ],
   "source": [
    "# compare opt\n",
    "print('A'<'B')\n",
    "print(ord('A'))\n",
    "print(ord('B'))\n",
    "print(chr(65))"
   ]
  },
  {
   "cell_type": "markdown",
   "metadata": {},
   "source": [
    "### 练习:\n",
    "\t写程序输入一个字符串，打印字符串中的如下内容\n",
    "\t\t- 打印这个字符串的第一个字符\n",
    "\t\t- 打印这个字符串的最后一个字符\n",
    "\t\t- 如果这个字符串的长度是奇数，就打印中间这个字符"
   ]
  },
  {
   "cell_type": "code",
   "execution_count": 9,
   "metadata": {},
   "outputs": [
    {
     "name": "stdout",
     "output_type": "stream",
     "text": [
      "e\na\nq\n"
     ]
    }
   ],
   "source": [
    "st=\"ertqwea\"\n",
    "# st=input()\n",
    "print(st[0])\n",
    "print(st[-1])\n",
    "if len(st)%2!=0:\n",
    "    index=len(st)//2\n",
    "    print(st[index])"
   ]
  },
  {
   "cell_type": "code",
   "execution_count": 18,
   "metadata": {},
   "outputs": [
    {
     "name": "stdout",
     "output_type": "stream",
     "text": [
      "ertqwea\nrtqwea\nrtqwe\nrtqwea\n"
     ]
    }
   ],
   "source": [
    "'''\n",
    "  s.strip(rm)        删除s字符串中开头、结尾处，位于 rm删除序列的字符\n",
    "  s.lstrip(rm)       删除s字符串中开头处，位于 rm删除序列的字符\n",
    "  s.rstrip(rm)       删除s字符串中结尾处，位于 rm删除序列的字符\n",
    "\n",
    "'''\n",
    "\n",
    "st=\"ertqwea\"\n",
    "# st=input()\n",
    "\n",
    "a=st.lstrip(st[0])\n",
    "b=a.rstrip(st[-1])\n",
    "print(st)\n",
    "print(a)\n",
    "print(b)\n",
    "\n",
    "print(st[1:])\n",
    "print(st[:-1])\n",
    "## Tips：左闭右开"
   ]
  },
  {
   "cell_type": "code",
   "execution_count": 19,
   "metadata": {},
   "outputs": [
    {
     "name": "stdout",
     "output_type": "stream",
     "text": [
      "B\nA\n"
     ]
    },
    {
     "ename": "IndexError",
     "evalue": "string index out of range",
     "traceback": [
      "\u001b[0;31m---------------------------------------------------------------------------\u001b[0m",
      "\u001b[0;31mIndexError\u001b[0m                                Traceback (most recent call last)",
      "\u001b[0;32m<ipython-input-19-86bc8432180e>\u001b[0m in \u001b[0;36m<module>\u001b[0;34m()\u001b[0m\n\u001b[1;32m      3\u001b[0m \u001b[0mprint\u001b[0m\u001b[1;33m(\u001b[0m\u001b[0ms\u001b[0m\u001b[1;33m[\u001b[0m\u001b[1;36m1\u001b[0m\u001b[1;33m]\u001b[0m\u001b[1;33m)\u001b[0m\u001b[1;33m\u001b[0m\u001b[1;33m\u001b[0m\u001b[0m\n\u001b[1;32m      4\u001b[0m \u001b[0mprint\u001b[0m\u001b[1;33m(\u001b[0m\u001b[0ms\u001b[0m\u001b[1;33m[\u001b[0m\u001b[1;33m-\u001b[0m\u001b[1;36m5\u001b[0m\u001b[1;33m]\u001b[0m\u001b[1;33m)\u001b[0m\u001b[1;33m\u001b[0m\u001b[1;33m\u001b[0m\u001b[0m\n\u001b[0;32m----> 5\u001b[0;31m \u001b[0mprint\u001b[0m\u001b[1;33m(\u001b[0m\u001b[0ms\u001b[0m\u001b[1;33m[\u001b[0m\u001b[1;36m100\u001b[0m\u001b[1;33m]\u001b[0m\u001b[1;33m)\u001b[0m\u001b[1;33m\u001b[0m\u001b[1;33m\u001b[0m\u001b[0m\n\u001b[0m",
      "\u001b[0;31mIndexError\u001b[0m: string index out of range"
     ],
     "output_type": "error"
    }
   ],
   "source": [
    "### index and string\n",
    "s='ABCDE'\n",
    "print(s[1])\n",
    "print(s[-5])\n",
    "print(s[100])## out of index  IndexError"
   ]
  },
  {
   "cell_type": "code",
   "execution_count": 20,
   "metadata": {},
   "outputs": [
    {
     "name": "stdout",
     "output_type": "stream",
     "text": [
      "name:Tarena,age:15\n"
     ]
    }
   ],
   "source": [
    "##字符串的格式化\n",
    "fmt='name:%s,age:%d'\n",
    "s2=fmt%('Tarena',15)\n",
    "print(s2)"
   ]
  },
  {
   "cell_type": "markdown",
   "metadata": {},
   "source": [
    "### 练习\n",
    "\t输入三行文字，让这三行文字依次以20个字符的宽度右对齐\n",
    "\t如：\n",
    "\t请输入第一行：hello world\n",
    "\t请输入第二行：abcd\n",
    "\t请输入第三行：aaaaaa\n",
    "\t打印结果如下：\n",
    "\thelloworld\n",
    "\t      abcd\n",
    "\t    aaaaaa"
   ]
  },
  {
   "cell_type": "code",
   "execution_count": 28,
   "metadata": {},
   "outputs": [
    {
     "name": "stdout",
     "output_type": "stream",
     "text": [
      "helloworld\n      abcd\n    aaaaaa\nhelloworld\nabcd      \naaaaaa    \n"
     ]
    }
   ],
   "source": [
    "## 利用字符串格式化 实现左右对齐\n",
    "str1='helloworld'\n",
    "str2='abcd'\n",
    "str3='aaaaaa'\n",
    "print('%10s'%str1)\n",
    "print('%10s'%str2)\n",
    "print('%10s'%str3)\n",
    "\n",
    "print('%-10s'%str1)\n",
    "print('%-10s'%str2)\n",
    "print('%-10s'%str3)"
   ]
  },
  {
   "cell_type": "code",
   "execution_count": 33,
   "metadata": {},
   "outputs": [
    {
     "name": "stdout",
     "output_type": "stream",
     "text": [
      "h-e-l-l-o\n"
     ]
    }
   ],
   "source": [
    "## 生成新的字符串\n",
    "'''\n",
    "str.join(iterable)\n",
    "功能：\n",
    "返回一个字符串，该字符串是iterable中字符串用str作为分隔符的串联。\n",
    "即将iterable变量除最后元素外，将每个元素后增加str字符串。\n",
    "参数：\n",
    "iterable应是字符串或列表，如果是列表时，其元素也必须是字符串\n",
    "'''\n",
    "str=\"hello\"\n",
    "a='-'.join(str)\n",
    "print(a)"
   ]
  },
  {
   "cell_type": "markdown",
   "metadata": {},
   "source": [
    "## 练习\n",
    "\t- 用while循环打印1-20的整数 可多行打印\n",
    "\t- 用while循环打印1-20的整数，打印显示在一行，每个数字之间用一个空分隔\n",
    "\t- 用while循环打印1-20的整数，每行打印5个，打印4行"
   ]
  },
  {
   "cell_type": "code",
   "execution_count": 13,
   "metadata": {
    "collapsed": false
   },
   "outputs": [
    {
     "name": "stdout",
     "output_type": "stream",
     "text": [
      "1\n2\n3\n4\n5\n6\n7\n8\n9\n10\n11\n12\n13\n14\n15\n16\n17\n18\n19\n20\n1 2 3 4 5 6 7 8 9 10 11 12 13 14 15 16 17 18 19 20 \n1 2 3 4 5\n6 7 8 9 10\n11 12 13 14 15\n16 17 18 19 20\n"
     ]
    }
   ],
   "source": [
    "num=1\n",
    "while(num<=20):\n",
    "    print(num)\n",
    "    num=num+1\n",
    "\n",
    "num=1\n",
    "while(num<=20):\n",
    "    print(num,end=' ')\n",
    "    num=num+1\n",
    "\n",
    "print('')\n",
    "num=1\n",
    "while(num<=20):\n",
    "    if 0<num%5:\n",
    "        print(num,end=' ')\n",
    "    else:\n",
    "        print(num)\n",
    "    num=num+1"
   ]
  },
  {
   "cell_type": "markdown",
   "metadata": {},
   "source": [
    "##练习\n",
    "\t打印三角形\n",
    "\t*\n",
    "\t**\n",
    "\t***\n",
    "\t****"
   ]
  },
  {
   "cell_type": "code",
   "execution_count": 26,
   "metadata": {},
   "outputs": [
    {
     "name": "stdout",
     "output_type": "stream",
     "text": [
      "*****\n*****\n*****\n*****\n*****\n*****\n*\n**\n***\n****\n*****\n******\n"
     ]
    }
   ],
   "source": [
    "row1=6\n",
    "for i in range(row1):\n",
    "    col=1\n",
    "    while(0<col<=5):\n",
    "        print('*',end='')\n",
    "        col=col+1\n",
    "    print('')\n",
    "\n",
    "row=6\n",
    "for i in range(1,row+1):\n",
    "    col=0\n",
    "    while(0<col+(row+1-i)<row+1):\n",
    "        print('*',end='')\n",
    "        col=col+1\n",
    "    print('')"
   ]
  },
  {
   "cell_type": "markdown",
   "metadata": {},
   "source": [
    "## 练习\n",
    "\t输入一个整数n,打印指定宽度的正方形\n",
    "\t输入5\n",
    "\t打印\n",
    "\t12345\n",
    "\t12345\n",
    "\t12345\n",
    "\t12345\n",
    "\t12345"
   ]
  },
  {
   "cell_type": "code",
   "execution_count": 32,
   "metadata": {},
   "outputs": [
    {
     "name": "stdout",
     "output_type": "stream",
     "text": [
      "1234567\n1234567\n1234567\n1234567\n1234567\n1234567\n1234567\n"
     ]
    }
   ],
   "source": [
    "n=7\n",
    "i=1\n",
    "while 0<i<=n:\n",
    "    j=1\n",
    "    while 0<j<=n:\n",
    "        print(j,end='')\n",
    "        j=j+1\n",
    "    print('')\n",
    "    i=i+1"
   ]
  },
  {
   "cell_type": "code",
   "execution_count": 33,
   "metadata": {},
   "outputs": [
    {
     "name": "stdout",
     "output_type": "stream",
     "text": [
      " 1 x  1 =   1 \n 2 x  1 =   2  2 x  2 =   4 \n 3 x  1 =   3  3 x  2 =   6  3 x  3 =   9 \n 4 x  1 =   4  4 x  2 =   8  4 x  3 =  12  4 x  4 =  16 \n 5 x  1 =   5  5 x  2 =  10  5 x  3 =  15  5 x  4 =  20  5 x  5 =  25 \n 6 x  1 =   6  6 x  2 =  12  6 x  3 =  18  6 x  4 =  24  6 x  5 =  30  6 x  6 =  36 \n 7 x  1 =   7  7 x  2 =  14  7 x  3 =  21  7 x  4 =  28  7 x  5 =  35  7 x  6 =  42  7 x  7 =  49 \n 8 x  1 =   8  8 x  2 =  16  8 x  3 =  24  8 x  4 =  32  8 x  5 =  40  8 x  6 =  48  8 x  7 =  56  8 x  8 =  64 \n 9 x  1 =   9  9 x  2 =  18  9 x  3 =  27  9 x  4 =  36  9 x  5 =  45  9 x  6 =  54  9 x  7 =  63  9 x  8 =  72  9 x  9 =  81 \n"
     ]
    }
   ],
   "source": [
    "row=9\n",
    "col=9\n",
    "i=1\n",
    "while 0<i<=9:\n",
    "    j=1\n",
    "    while 0<j<=i:\n",
    "        print(\"%2d x %2d = %3d\"%(i,j,i*j),end=' ')\n",
    "        j=j+1\n",
    "    print('')\n",
    "    i=i+1"
   ]
  },
  {
   "cell_type": "markdown",
   "metadata": {},
   "source": [
    "## 练习\n",
    "\t- 写程序，任意输入一行字符串，打印这个字符内有多少空格(要求用for语句，不能用.count方法) while\n",
    "\t- 输入任意一个整数，代表结束值\n",
    "\t\t求 1+2+3+4+...+n的和"
   ]
  },
  {
   "cell_type": "code",
   "execution_count": 1,
   "metadata": {},
   "outputs": [
    {
     "name": "stdout",
     "output_type": "stream",
     "text": [
      "6\n6\n6\n"
     ]
    }
   ],
   "source": [
    "s='  njsndnsa  slkdnalskd  skdnal'\n",
    "count=0\n",
    "for i in s:\n",
    "    if i==' ':\n",
    "        count+=1\n",
    "count1=0\n",
    "j=0\n",
    "while j<len(s):\n",
    "    if s[j]==' ':\n",
    "        count1+=1\n",
    "    j+=1\n",
    "print(count)\n",
    "print(count1)\n",
    "print(s.count(' '))"
   ]
  },
  {
   "cell_type": "code",
   "execution_count": 4,
   "metadata": {},
   "outputs": [
    {
     "name": "stdout",
     "output_type": "stream",
     "text": [
      "28\n"
     ]
    }
   ],
   "source": [
    "n=7\n",
    "su=0\n",
    "for i in range(1,n+1):\n",
    "    su+=i\n",
    "    \n",
    "print(su)"
   ]
  },
  {
   "cell_type": "code",
   "execution_count": null,
   "metadata": {},
   "outputs": [],
   "source": []
  }
 ],
 "metadata": {
  "kernelspec": {
   "display_name": "Python 2",
   "language": "python",
   "name": "python2"
  },
  "language_info": {
   "codemirror_mode": {
    "name": "ipython",
    "version": 2
   },
   "file_extension": ".py",
   "mimetype": "text/x-python",
   "name": "python",
   "nbconvert_exporter": "python",
   "pygments_lexer": "ipython2",
   "version": "2.7.6"
  }
 },
 "nbformat": 4,
 "nbformat_minor": 0
}
