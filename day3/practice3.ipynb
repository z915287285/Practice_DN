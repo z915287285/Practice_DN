{
 "cells": [
  {
   "cell_type": "heading",
   "metadata": {
    "collapsed": true
   },
   "level": 1,
   "source": [
    "Day3"
   ]
  },
  {
   "cell_type": "markdown",
   "metadata": {},
   "source": [
    "## continue语句\n",
    "#### 作用：\n",
    "\t用于循环语句(while，for)中，不再执行本次循环内continue之后的语句，重新开始一次新的循环\n",
    "#### 说明：\n",
    "\t- 在while语句中执行continue语句，将会直接跳转到while语句的真值表达式处重新开始一次判断循环条件\n",
    "\t- 在for语句中执行continue语句，将会从可迭代对象中取下一个数据绑定变量后再次进行循环"
   ]
  },
  {
   "cell_type": "code",
   "execution_count": 1,
   "metadata": {},
   "outputs": [
    {
     "name": "stdout",
     "output_type": "stream",
     "text": [
      "0\n1\n3\n4\n"
     ]
    }
   ],
   "source": [
    "## continue语句\n",
    "for i in range(5):\n",
    "    if i==2:\n",
    "        continue\n",
    "    print(i)"
   ]
  },
  {
   "cell_type": "code",
   "execution_count": 2,
   "metadata": {},
   "outputs": [
    {
     "ename": "StdinNotImplementedError",
     "evalue": "raw_input was called, but this frontend does not support input requests.",
     "traceback": [
      "\u001b[0;31m---------------------------------------------------------------------------\u001b[0m",
      "\u001b[0;31mStdinNotImplementedError\u001b[0m                  Traceback (most recent call last)",
      "\u001b[0;32m<ipython-input-2-3912ea68d009>\u001b[0m in \u001b[0;36m<module>\u001b[0;34m()\u001b[0m\n\u001b[0;32m----> 1\u001b[0;31m \u001b[0mbegin\u001b[0m\u001b[1;33m=\u001b[0m\u001b[0meval\u001b[0m\u001b[1;33m(\u001b[0m\u001b[0minput\u001b[0m\u001b[1;33m(\u001b[0m\u001b[1;34m'请输入一个开始的整数：'\u001b[0m\u001b[1;33m)\u001b[0m\u001b[1;33m)\u001b[0m\u001b[1;33m\u001b[0m\u001b[1;33m\u001b[0m\u001b[0m\n\u001b[0m\u001b[1;32m      2\u001b[0m \u001b[0mend\u001b[0m\u001b[1;33m=\u001b[0m\u001b[0meval\u001b[0m\u001b[1;33m(\u001b[0m\u001b[0minput\u001b[0m\u001b[1;33m(\u001b[0m\u001b[1;34m'请输入结束的整数：'\u001b[0m\u001b[1;33m)\u001b[0m\u001b[1;33m)\u001b[0m\u001b[1;33m\u001b[0m\u001b[1;33m\u001b[0m\u001b[0m\n\u001b[1;32m      3\u001b[0m \u001b[0mi\u001b[0m\u001b[1;33m=\u001b[0m\u001b[0mbegin\u001b[0m\u001b[1;33m\u001b[0m\u001b[1;33m\u001b[0m\u001b[0m\n\u001b[1;32m      4\u001b[0m \u001b[1;32mwhile\u001b[0m \u001b[0mi\u001b[0m\u001b[1;33m<\u001b[0m\u001b[0mend\u001b[0m\u001b[1;33m:\u001b[0m\u001b[1;33m\u001b[0m\u001b[1;33m\u001b[0m\u001b[0m\n\u001b[1;32m      5\u001b[0m     \u001b[1;32mif\u001b[0m \u001b[0mi\u001b[0m\u001b[1;33m%\u001b[0m\u001b[1;36m2\u001b[0m\u001b[1;33m==\u001b[0m\u001b[1;36m0\u001b[0m\u001b[1;33m:\u001b[0m\u001b[1;33m\u001b[0m\u001b[1;33m\u001b[0m\u001b[0m\n",
      "\u001b[0;32mE:\\pycharm\\anaconda3\\lib\\site-packages\\ipykernel\\kernelbase.py\u001b[0m in \u001b[0;36mraw_input\u001b[0;34m(self, prompt)\u001b[0m\n\u001b[1;32m    687\u001b[0m         \u001b[1;32mif\u001b[0m \u001b[1;32mnot\u001b[0m \u001b[0mself\u001b[0m\u001b[1;33m.\u001b[0m\u001b[0m_allow_stdin\u001b[0m\u001b[1;33m:\u001b[0m\u001b[1;33m\u001b[0m\u001b[1;33m\u001b[0m\u001b[0m\n\u001b[1;32m    688\u001b[0m             raise StdinNotImplementedError(\n\u001b[0;32m--> 689\u001b[0;31m                 \u001b[1;34m\"raw_input was called, but this frontend does not support input requests.\"\u001b[0m\u001b[1;33m\u001b[0m\u001b[1;33m\u001b[0m\u001b[0m\n\u001b[0m\u001b[1;32m    690\u001b[0m             )\n\u001b[1;32m    691\u001b[0m         return self._input_request(str(prompt),\n",
      "\u001b[0;31mStdinNotImplementedError\u001b[0m: raw_input was called, but this frontend does not support input requests."
     ],
     "output_type": "error"
    }
   ],
   "source": [
    "begin=eval(input('请输入一个开始的整数：'))\n",
    "end=eval(input('请输入结束的整数：'))\n",
    "i=begin\n",
    "while i<end:\n",
    "    if i%2==0:\n",
    "        i+=1\n",
    "        continue\n",
    "    print(i)\n",
    "    i+=1\n",
    "while i<end:\n",
    "    if i%2==1:\n",
    "        print(i)\n",
    "    i+=1"
   ]
  },
  {
   "cell_type": "markdown",
   "metadata": {},
   "source": [
    "## 列表\n",
    "#### 定义：\n",
    "\t- 列表是一种容器\n",
    "\t- 列表是可以被改变的序列容器\n",
    "\t- 列表是由一系列元素组成的，元素与元素之间可能没有任何关联关系，但他们之间会有先后的顺序关系\n",
    "#### 列表的创建方式\n",
    "``` js \n",
    "\tL=[]\n",
    "```\n",
    "\tlist(iter) 可用迭代对象创建一个列表\n",
    "Tips：\n",
    "\t- 在Python3中的range()函数返回的是一个可迭代对象(类型是对象)，而不是列表类型，所以打印的时候不会打印成列表\n",
    "\t- 在Python3中的list()函数是对象迭代器，可以把range()返回的可迭代对象转换为一个列表，返回的变量类型为列表\n",
    "\t- 但在Python2中range()函数返回的是列表\n",
    "#### 列表的运算\n",
    "\t- 算术运算符\n",
    "\t\t+ += * *=\n",
    "\t\t- + 号用于拼接列表\n",
    "\t\t- += 用于原列表与右侧可迭代对象进行拼接，用变量绑定列表 \t列表+=列表\n",
    "\t\t- * 生成重复列表\n",
    "\t\t- * 生成重复列表并对原来的列表进行赋值\n",
    "\t- 比较运算符\n",
    "\t\t< <= > >= == !=\n",
    "\t\t说明：\n",
    "\t\t\t- 列表的比较规则与字符串的比较规则相同\n",
    "\t\t\t- 列表要求每俩个元素能依次进行比较，否则会出现类型错误\n",
    "#### 列表的索引操作\n",
    "\t- 索引取值\n",
    "\t\t- 语法:\n",
    "\t\t\tx=列表[整数表达式]\n",
    "\t\t- 用法：\n",
    "\t\t\t等同于字符串的索引（同样有正向索引和反向索引）\n",
    "\t- 索引赋值\n",
    "\t\t列表可能是可变序列，可以通过索引赋值改变列表中的元素\n",
    "\t\t语法：\n",
    "\t\t\t列表[整数表达式]=表达式\n",
    "\t- 列表的切片操作\n",
    "\t\t- 切片取值\n",
    "\t\t\t列表[起始索引:终止索引:步长]\n",
    "\t\t\t列表的切片取值是从原来列表中取出想要的元素再次组成一个新的列表\n",
    "\t\t- 切片赋值操作\n",
    "\t\t\t- 作用：\n",
    "\t\t\t\t可以改变原列表的排列，可以插入和修改数据\n",
    "\t\t\t- 语法：\n",
    "\t\t\t\t列表[切片]=可迭代对象\n",
    "\t\t\t- 说明：\n",
    "\t\t\t\t切片赋值的赋值运算符(=)的右侧必须是一个可迭代对象\n",
    "\t\t- 切片的注意事项：\n",
    "\t\t\t对于步长不等于1的切片赋值，赋值运算符的右侧的可迭代对象提供的元素的个数，一定要等于切片切出的段数\n",
    "\t- 列表推导式的嵌套\n",
    "\t\t- 语法：\n",
    "\t\t\t[表达式 for 变量1 in 可迭代对象1 if 真值表达式1\n",
    "\t\t\t\tfor 变量2 in 可迭代对象2 if 真值表达式2 ]\n",
    "\t\t- 列表推导式\n",
    "\t\t\t列表推导式是用可迭代对象创建列表表达式\n",
    "\t\t\t- 作用：\n",
    "\t\t\t\t创建列表\n",
    "\t\t\t- 语法\n",
    "\t\t\t\t[表达式 for 变量 in 可迭代对象]\n",
    "\t\t\t\t[表达式 for 变量 in 可迭代对象 if 真值表达式]\n",
    "\t- del 语句\n",
    "\t\t可用于删除列表中的元素\n",
    "\t\t- 语法：\n",
    "\t\t\tdel 列表[整数表达式]\n",
    "\t\t\tdel 列表[切片]\n",
    "\t\t- 练习：\n",
    "\t\t\t已经存在列表：L=[3,5]\n",
    "\t\t\t利用索引和切片操作，将原列表改变为L=[1,2,3,4,5,6]\n",
    "\t\t\t将列表反转，结果如下：\n",
    "\t\t\tL=[6,5,4,3,2,1]\n",
    "\t\t\t然后删除最后一个元素，结果如下:\n",
    "\t\t\tL=[6,5,4,3,2]\n",
    "\t\t- Python3中常用的序列函数\n",
    "\t\t\tlen(x)返回序列长度\n",
    "\t\t\tmax(x)返回序列的最大值元素\n",
    "\t\t\tmin(x)返回序列的最小值元素\n",
    "\t\t\tsum(x)返回序列中所有元素的和（元素必须是数字类型）\n",
    "\t\t\tany(x)真值测试，如果列表中的一个值为真值则返回True\n",
    "\t\t\t\n",
    "\t\t\t练习：\n",
    "\t\t\t\t写程序，让用户输入很多个正整数，当输入负数时结束输入，将用户输入的数字存储在列表中\n",
    "\t\t\t\t- 打印存有数字的列表\n",
    "\t\t\t\t- 求出这些数字中的平均值\n",
    "\t\t\t\t- 求出这些数字的最大值\n",
    "\t\t\t\t如：\n",
    "\t\t\t\t\t请输入：1\n",
    "\t\t\t\t\t请输入：2\n",
    "\t\t\t\t\t请输入：99\n",
    "\t\t\t\t\t请输入：100\n",
    "\t\t\t\t\t请输入：-1\n",
    "\t\t\t\t\t打印如下：\n",
    "\t\t\t\t\t\t列表：[1:2:99:100]\n",
    "\t\t\t\t\t\t平均值：50.5\n",
    "\t\t\t\t\t\t最大值：100\n",
    "\t\t- python3中列表的方法\n",
    "\t\t\t1.count\n",
    "\t\t\t2.append 添加对象\n",
    "\t\t\t3.insert\n",
    "\t\t\t4.index\n",
    "\t\t\t5.pop\n",
    "\t\t\t6.remove\n",
    "\t\t\t7.reverse\n",
    "\t\t\t8.sort  reverse参数 True  降序  False 升序 无返回值\n",
    "\t\t\t9.extend 添加值（用新列表拓展原列表）"
   ]
  },
  {
   "cell_type": "code",
   "execution_count": 8,
   "metadata": {},
   "outputs": [
    {
     "name": "stdout",
     "output_type": "stream",
     "text": [
      "0 <class 'int'>\n1 <class 'int'>\n2 <class 'int'>\n3 <class 'int'>\n<class 'int'>\n[0, 1, 2, 3]\n<class 'list'>\n[]\n['h', 'e', 'l', 'l', 'o']\n[1, 3, 5, 7, 9]\nstudent: ['ou', 231, 'sihuo', 'lc']\nstudent1: ['ou', 231, 'sihuo', 'lc']\n"
     ]
    }
   ],
   "source": [
    "#列表的创建方式 + 定义\n",
    "for i in range(4):\n",
    "    print(i,end=' ')\n",
    "    print(type(i))\n",
    "print(type(i))\n",
    "list1=list(range(4))\n",
    "print(list1)\n",
    "print(type(list1))\n",
    "\n",
    "print(list())\n",
    "print(list('hello'))\n",
    "print(list(range(1,10,2)))\n",
    "\n",
    "student=['ou',231,'sihuo','lc']\n",
    "student1=list(['ou',231,'sihuo','lc'])\n",
    "print('student:',student)\n",
    "print('student1:',student1)"
   ]
  },
  {
   "cell_type": "code",
   "execution_count": 6,
   "metadata": {},
   "outputs": [
    {
     "name": "stdout",
     "output_type": "stream",
     "text": [
      "[1, 2, 3, 4, 5, 6]\n[1, 2, 3, 4, 5, 6]\n"
     ]
    }
   ],
   "source": [
    "#列表运算\n",
    "a=[1,2,3]\n",
    "b=[4,5,6]\n",
    "print(a+b)\n",
    "a+=b\n",
    "print(a)"
   ]
  },
  {
   "cell_type": "code",
   "execution_count": 7,
   "metadata": {},
   "outputs": [
    {
     "name": "stdout",
     "output_type": "stream",
     "text": [
      "[1, 2, 3.134, 4]\n"
     ]
    }
   ],
   "source": [
    "#列表的索引操作\n",
    "x=[1,2,3,4]\n",
    "x[2]=1+2.134\n",
    "print(x)"
   ]
  },
  {
   "cell_type": "code",
   "execution_count": 16,
   "metadata": {},
   "outputs": [
    {
     "name": "stdout",
     "output_type": "stream",
     "text": [
      "[1.1, 2.2, 3, 4]\n[2, 3.1, 32, 4]\n[1, 2, 3, 4]\n[2, 3, 4, 5]\n"
     ]
    }
   ],
   "source": [
    "# 列表的切片操作\n",
    "L=[2,3,4]\n",
    "L[0:1]=[1.1,2.2]\n",
    "print(L)\n",
    "## 中间插入\n",
    "L=[2,4]\n",
    "L[1:1]=[3.1,32]\n",
    "print(L)\n",
    "# 前面插入\n",
    "L=[2,3,4]\n",
    "L[0:0]=[1]\n",
    "print(L)\n",
    "##末尾插入\n",
    "L=[2,3,4]\n",
    "L[3:3]=[5]\n",
    "print(L)"
   ]
  },
  {
   "cell_type": "code",
   "execution_count": 19,
   "metadata": {},
   "outputs": [
    {
     "name": "stdout",
     "output_type": "stream",
     "text": [
      "['A', 2, 'B', 4, 'C', 6]\n"
     ]
    },
    {
     "ename": "ValueError",
     "evalue": "attempt to assign sequence of size 4 to extended slice of size 3",
     "traceback": [
      "\u001b[0;31m---------------------------------------------------------------------------\u001b[0m",
      "\u001b[0;31mValueError\u001b[0m                                Traceback (most recent call last)",
      "\u001b[0;32m<ipython-input-19-989a5dfa2378>\u001b[0m in \u001b[0;36m<module>\u001b[0;34m()\u001b[0m\n\u001b[1;32m      3\u001b[0m \u001b[0mL\u001b[0m\u001b[1;33m[\u001b[0m\u001b[1;33m:\u001b[0m\u001b[1;33m:\u001b[0m\u001b[1;36m2\u001b[0m\u001b[1;33m]\u001b[0m\u001b[1;33m=\u001b[0m\u001b[1;34m'ABC'\u001b[0m\u001b[1;33m\u001b[0m\u001b[1;33m\u001b[0m\u001b[0m\n\u001b[1;32m      4\u001b[0m \u001b[0mprint\u001b[0m\u001b[1;33m(\u001b[0m\u001b[0mL\u001b[0m\u001b[1;33m)\u001b[0m\u001b[1;33m\u001b[0m\u001b[1;33m\u001b[0m\u001b[0m\n\u001b[0;32m----> 5\u001b[0;31m \u001b[0mL\u001b[0m\u001b[1;33m[\u001b[0m\u001b[1;33m:\u001b[0m\u001b[1;33m:\u001b[0m\u001b[1;36m2\u001b[0m\u001b[1;33m]\u001b[0m\u001b[1;33m=\u001b[0m\u001b[1;34m'ABCD'\u001b[0m\u001b[1;33m\u001b[0m\u001b[1;33m\u001b[0m\u001b[0m\n\u001b[0m\u001b[1;32m      6\u001b[0m \u001b[0mprint\u001b[0m\u001b[1;33m(\u001b[0m\u001b[0mL\u001b[0m\u001b[1;33m)\u001b[0m\u001b[1;33m\u001b[0m\u001b[1;33m\u001b[0m\u001b[0m\n",
      "\u001b[0;31mValueError\u001b[0m: attempt to assign sequence of size 4 to extended slice of size 3"
     ],
     "output_type": "error"
    }
   ],
   "source": [
    "## 注意事项\n",
    "L=list(range(1,7))\n",
    "L[::2]='ABC'\n",
    "print(L)\n",
    "# error\n",
    "L[::2]='ABCD'\n",
    "print(L)"
   ]
  },
  {
   "cell_type": "code",
   "execution_count": 21,
   "metadata": {},
   "outputs": [
    {
     "name": "stdout",
     "output_type": "stream",
     "text": [
      "['A1', 'A2', 'A3', 'B1', 'B2', 'B3', 'C1', 'C2', 'C3']\n"
     ]
    }
   ],
   "source": [
    "#列表推导式的嵌套\n",
    "L=[x+y for x in 'ABC' for y in '123']\n",
    "print(L)"
   ]
  },
  {
   "cell_type": "code",
   "execution_count": 24,
   "metadata": {},
   "outputs": [
    {
     "name": "stdout",
     "output_type": "stream",
     "text": [
      "[1, 4, 9, 16, 25, 36, 49, 64, 81, 100, 121, 144]\n[1, 9, 25, 49, 81]\n"
     ]
    }
   ],
   "source": [
    "## 列表推导式\n",
    "L=[x **2 for x in range(1,13)]\n",
    "print(L)\n",
    "L1=[x**2 for  x in range(1,10) if x%2==1]\n",
    "print(L1)"
   ]
  },
  {
   "cell_type": "code",
   "execution_count": 34,
   "metadata": {},
   "outputs": [
    {
     "name": "stdout",
     "output_type": "stream",
     "text": [
      "[1, 2, 3, 5]\n[1, 2, 3, 5, 6]\n[1, 2, 3, 4, 5, 6]\n[6, 5, 4, 3, 2, 1]\n[6, 5, 4, 3, 2]\n"
     ]
    }
   ],
   "source": [
    "## 列表del语句练习\n",
    "L=[3,5]\n",
    "L[0:0]=[1,2]\n",
    "print(L)\n",
    "L[4:4]=[6]\n",
    "print(L)\n",
    "L[3:3]=[4]\n",
    "print(L)\n",
    "# L.reverse()\n",
    "# print(L)\n",
    "\n",
    "L=L[::-1]\n",
    "print(L)\n",
    "# 三种删除方式\n",
    "# L.pop(-1)\n",
    "# print(L)\n",
    "del L[-1]\n",
    "print(L)\n",
    "# L.remove(L[-1])\n",
    "# print(L)"
   ]
  },
  {
   "cell_type": "code",
   "execution_count": 35,
   "metadata": {},
   "outputs": [
    {
     "ename": "StdinNotImplementedError",
     "evalue": "raw_input was called, but this frontend does not support input requests.",
     "traceback": [
      "\u001b[0;31m---------------------------------------------------------------------------\u001b[0m",
      "\u001b[0;31mStdinNotImplementedError\u001b[0m                  Traceback (most recent call last)",
      "\u001b[0;32m<ipython-input-35-cec4093089ae>\u001b[0m in \u001b[0;36m<module>\u001b[0;34m()\u001b[0m\n\u001b[1;32m      3\u001b[0m \u001b[0minp\u001b[0m\u001b[1;33m=\u001b[0m\u001b[1;33m[\u001b[0m\u001b[1;33m]\u001b[0m\u001b[1;33m\u001b[0m\u001b[1;33m\u001b[0m\u001b[0m\n\u001b[1;32m      4\u001b[0m \u001b[1;32mfor\u001b[0m \u001b[0mi\u001b[0m \u001b[1;32min\u001b[0m \u001b[0mrange\u001b[0m\u001b[1;33m(\u001b[0m\u001b[0mn\u001b[0m\u001b[1;33m+\u001b[0m\u001b[1;36m1\u001b[0m\u001b[1;33m)\u001b[0m\u001b[1;33m:\u001b[0m\u001b[1;33m\u001b[0m\u001b[1;33m\u001b[0m\u001b[0m\n\u001b[0;32m----> 5\u001b[0;31m     \u001b[0ma\u001b[0m\u001b[1;33m=\u001b[0m\u001b[0meval\u001b[0m\u001b[1;33m(\u001b[0m\u001b[0minput\u001b[0m\u001b[1;33m(\u001b[0m\u001b[1;34m'请输入:'\u001b[0m\u001b[1;33m)\u001b[0m\u001b[1;33m)\u001b[0m\u001b[1;33m\u001b[0m\u001b[1;33m\u001b[0m\u001b[0m\n\u001b[0m\u001b[1;32m      6\u001b[0m     \u001b[1;32mif\u001b[0m \u001b[0ma\u001b[0m\u001b[1;33m<\u001b[0m\u001b[1;36m0\u001b[0m\u001b[1;33m:\u001b[0m\u001b[1;33m\u001b[0m\u001b[1;33m\u001b[0m\u001b[0m\n\u001b[1;32m      7\u001b[0m         \u001b[1;32mbreak\u001b[0m\u001b[1;33m\u001b[0m\u001b[1;33m\u001b[0m\u001b[0m\n",
      "\u001b[0;32mE:\\pycharm\\anaconda3\\lib\\site-packages\\ipykernel\\kernelbase.py\u001b[0m in \u001b[0;36mraw_input\u001b[0;34m(self, prompt)\u001b[0m\n\u001b[1;32m    687\u001b[0m         \u001b[1;32mif\u001b[0m \u001b[1;32mnot\u001b[0m \u001b[0mself\u001b[0m\u001b[1;33m.\u001b[0m\u001b[0m_allow_stdin\u001b[0m\u001b[1;33m:\u001b[0m\u001b[1;33m\u001b[0m\u001b[1;33m\u001b[0m\u001b[0m\n\u001b[1;32m    688\u001b[0m             raise StdinNotImplementedError(\n\u001b[0;32m--> 689\u001b[0;31m                 \u001b[1;34m\"raw_input was called, but this frontend does not support input requests.\"\u001b[0m\u001b[1;33m\u001b[0m\u001b[1;33m\u001b[0m\u001b[0m\n\u001b[0m\u001b[1;32m    690\u001b[0m             )\n\u001b[1;32m    691\u001b[0m         return self._input_request(str(prompt),\n",
      "\u001b[0;31mStdinNotImplementedError\u001b[0m: raw_input was called, but this frontend does not support input requests."
     ],
     "output_type": "error"
    }
   ],
   "source": [
    "## 序列方法\n",
    "inp=[]\n",
    "while True:\n",
    "    a=eval(input('请输入:'))\n",
    "    if a<0:\n",
    "        break\n",
    "    else:\n",
    "        inp.append(a)\n",
    "        i+=1\n",
    "print(\"列表是:\",inp)\n",
    "print(\"平均值是:\",sum(inp)/len(inp))\n",
    "print(\"最大值是:\",max(inp))"
   ]
  },
  {
   "cell_type": "code",
   "execution_count": 41,
   "metadata": {},
   "outputs": [
    {
     "name": "stdout",
     "output_type": "stream",
     "text": [
      "['欧老师', 27, '西南', '成都', 332, '212']\n1\n1\n['欧老师', 'lc', 27, '西南', '成都', 332, '212']\n"
     ]
    }
   ],
   "source": [
    "## 列表方法之 count index insert\n",
    "list1=['欧老师',27,'西南','成都',332,'212']\n",
    "print(list1)\n",
    "print(list1.index(27))\n",
    "print(list1.count('212'))\n",
    "list1.insert(1,'lc')\n",
    "print(list1)"
   ]
  },
  {
   "cell_type": "code",
   "execution_count": 46,
   "metadata": {},
   "outputs": [
    {
     "name": "stdout",
     "output_type": "stream",
     "text": [
      "[1, 3, 2, ['欧老师', 27, '西南', '成都', 332, '212']]\n[1, 3, 2, '欧老师', 27, '西南', '成都', 332, '212']\n"
     ]
    }
   ],
   "source": [
    "# append and extend\n",
    "list=[1,3,2]\n",
    "list1=[1,3,2]\n",
    "a=['欧老师',27,'西南','成都',332,'212']\n",
    "list.append(a)\n",
    "list1.extend(a)\n",
    "print(list)\n",
    "print(list1)"
   ]
  },
  {
   "cell_type": "markdown",
   "metadata": {},
   "source": [
    "## 列表操作的综合练习\n",
    "\t编写一个名字管理系统\n",
    "\t\t功能要求：\n",
    "\t\t\t1.添加一个新名字\n",
    "\t\t\t2.删除一个名字\n",
    "\t\t\t3.修改一个名字\n",
    "\t\t\t4.查询一个名字\n",
    "\t\t\t5.退出系统"
   ]
  },
  {
   "cell_type": "markdown",
   "metadata": {},
   "source": [
    "####列表与字符串的比较\n",
    "\t1.列表和字符串都是序列，元素之间有先后的顺序关系\n",
    "\t2.字符串是不可改变的序列，列表是可变的序列\n",
    "\t3.字符串的每个元素只能存储字符，而列表可以存储任意类型的元素\n",
    "\t4.列表和字符串都是可迭代对象\n"
   ]
  },
  {
   "cell_type": "markdown",
   "metadata": {},
   "source": [
    "## 元组\n",
    "\t- 定义：\n",
    "\t\t元组是不可变的序列，同列表一样，元组是可以存储任意类型的数据的容器\n",
    "\t- 元组的表示方式：\n",
    "\t\t用小括号括起来，单个元素括起来后加上逗号(,)区分单个对象还是元组\n",
    "\t- 创建空元组的字面值:\n",
    "\t\tT=() #创建一个空元组用T绑定\n",
    "\t- 创建非空元组的字面值：\n",
    "```\n",
    "\t\t## 创建非空元组\n",
    "\t\tt1=()\n",
    "\t\tprint(t1)\n",
    "\t\tt2=200,\n",
    "\t\tprint(type(t2))\n",
    "\t\tt3=(20,)\n",
    "\t\tprint(type(t3))\n",
    "\t\tt5=100,200,300\n",
    "\t\tprint(type(t5))\n",
    "```\n",
    "\t- 元组的构造函数tuple\n",
    "\t\ttuple 生成一个空元组 等价于()\n",
    "\t\ttuple(iter) 用可迭代对象生成一个新的元组\n",
    "\t- 元组的运算，比较运算，索引和切片与列表完全相同\n",
    "\t\t注意：\n",
    "\t\t\t元组不支持索引赋值与切片赋值"
   ]
  },
  {
   "cell_type": "code",
   "execution_count": 7,
   "metadata": {},
   "outputs": [
    {
     "name": "stdout",
     "output_type": "stream",
     "text": [
      "()\n<class 'tuple'>\n<class 'tuple'>\n<class 'tuple'>\n<class 'int'>\n<class 'int'> <class 'int'> <class 'int'>\n"
     ]
    }
   ],
   "source": [
    "## 创建非空元组\n",
    "t1=()\n",
    "print(t1)\n",
    "t2=200,\n",
    "print(type(t2))\n",
    "t3=(20,)\n",
    "print(type(t3))\n",
    "t5=100,200,300\n",
    "print(type(t5))\n",
    "##错误操作\n",
    "t4=(20)#bind the int\n",
    "print(type(t4))\n",
    "x,y,z=(100,200,300)\n",
    "print(type(x),type(y),type(z))"
   ]
  },
  {
   "cell_type": "code",
   "execution_count": 8,
   "metadata": {},
   "outputs": [
    {
     "name": "stdout",
     "output_type": "stream",
     "text": [
      "('a', 'b', 'c')\n(1, 4, 7)\n"
     ]
    }
   ],
   "source": [
    "# 用构造函数创建元组\n",
    "t1=tuple('abc')\n",
    "print(t1)\n",
    "t2=tuple(range(1,10,3))\n",
    "print(t2)"
   ]
  },
  {
   "cell_type": "code",
   "execution_count": null,
   "metadata": {},
   "outputs": [],
   "source": []
  }
 ],
 "metadata": {
  "kernelspec": {
   "display_name": "Python 2",
   "language": "python",
   "name": "python2"
  },
  "language_info": {
   "codemirror_mode": {
    "name": "ipython",
    "version": 2
   },
   "file_extension": ".py",
   "mimetype": "text/x-python",
   "name": "python",
   "nbconvert_exporter": "python",
   "pygments_lexer": "ipython2",
   "version": "2.7.6"
  }
 },
 "nbformat": 4,
 "nbformat_minor": 0
}
