{
 "cells": [
  {
   "cell_type": "heading",
   "metadata": {
    "collapsed": true
   },
   "level": 1,
   "source": [
    "Day4"
   ]
  },
  {
   "cell_type": "markdown",
   "metadata": {},
   "source": [
    "## 字典\n",
    "\t- 定义：\n",
    "\t\t1.字典是一种可变的容器，可以存储任意数据类型的数据\n",
    "\t\t2.字典中的每个数据都是用‘键(key)’进行索引，而不是序列(list,str,tuple)可以用整数进行索引\n",
    "\t\t3.字典的存储是无序的\n",
    "\t\t4.字典中的数据以键(key)-值(value)对形式进行存储\n",
    "\t\t5.字典的键不能重复，且只能用不可变类型作为字典的键\n",
    "\t- 创建字典的字面值方式:\n",
    "\t\t字典的表示方式以{}括起来，以冒号（：）分隔键值对，各个键值对之间是用逗号分隔开\n",
    "\t\t1、创建空的字典\n",
    "\t\t\td={}\n",
    "\t\t2、创建字典的构造函数dict\n",
    "\t\t\tdict（）\t\t# 生成一个空的字典\n",
    "\t\t\tdict（iterable）\t# 通过可迭代对象创建一个字典\n",
    "\t\t\tdict（**kwargs）\t# 关键字传参的形式生成一个字典\n",
    "\t\t\t注：字典的键必须为不可变类型的值\n",
    "\t\t\t可变的类型有：list（列表），dict（字典），set（集合）\n",
    "\t- 字典的基本操作:\n",
    "\t\t1.字典的键索引\n",
    "\t\t\t语法：\n",
    "\t\t\t\t字典[键]\n",
    "\t\t\t作用：\n",
    "\t\t\t\t用来获取键对的值\n",
    "\t\t2.字典添加和修改字典的元素\n",
    "\t\t\t语法：\n",
    "\t\t\t\t字典[键]=值\n",
    "\t\t\t说明：\n",
    "\t\t\t\t键不存在\n",
    "\t- 字典的删除操作：\n",
    "\t\tdel 语句\n",
    "\t\t\t语法:\n",
    "\t\t\t\tdel 字典[键]\n",
    "\t- 字典的键判断 in , not in  运算符\n",
    "\t\t可以用in 判断键是否在字典中，如果存在返回True，不存在返回False\n",
    "\t\tnot in与之相反\n",
    "\t- 字典的迭代访问：\n",
    "\t\t内置迭代方法 item实现 键值对的遍历\n",
    "\t- 可用于字典的函数\n",
    "\t\tlen(x)  max(x) min(x) sum(x) any(x)\n",
    "\t- 字典的内置方法\n",
    "\t\t1.dict.clear()\n",
    "\t\t\t删除字典中所有元素\n",
    "\t\t2.dict.fromkeys(seq,[,value])\n",
    "\t\t\t创建一个新的字典，以序列seq中元素作为字典的键，value为字典所有键对应的初始值\n",
    "\t\t\t参数:\n",
    "\t\t\t\tseq --字典键值列表\n",
    "\t\t\t\tvalue --可选参数,社会键序列(seq)的值\n",
    "\t\t\t返回值:\n",
    "\t\t\t\t该方法返回一个新的字典\n",
    "\t\t3.dict.get(key,default=None)\n",
    "\t\t\t返回指定键的值，如果值不存在字典中，就返回默认值\n",
    "\t\t\t参数：\n",
    "\t\t\t\tkey --字典中要查找的值\n",
    "\t\t\t\tdefault -- 如果指定键的值不存在时，返回该默认值\n",
    "\t\t\t返回值:\n",
    "\t\t\t\t返回该指定键的值，如果值不存在返回该默认值\n",
    "\t\t4.dict.item()以列表返回可迭代的键值元组\n",
    "\t\t5.dict.keys()\n",
    "\t\t\t以列表返回一个字典所有的键\n",
    "\t\t6.dict.update(dict2)\n",
    "\t\t\t把dict2的键值添加到指定dict\n",
    "\t\t\t无返回值\n",
    "\t\t7.dict.values()\n",
    "\t\t\t以列表返回字典中的所有值\n",
    "\t\t\t无参数\n",
    "\t\t8.pop(key,[,default])\n",
    "\t\t\t删除字典给定键key所对应的值，返回值为被删除的值。key值必须给出。否则将返回default值\n",
    "\t\t\t参数：\n",
    "\t\t\t\tkey：要删除的键值\n",
    "\t\t\t\tdefault：如果没有key，返回default值\n",
    "\t\t\t返回值：\n",
    "\t\t\t\t返回被删除的值\n",
    "\t\t9.popitem()\n",
    "\t\t\t随机返回并删除字典中的一对键和值\n",
    "\t\t\t没有参数\n",
    "\t\t\t返回值：\n",
    "\t\t\t\t返回一个键值对(key,value)形式\n",
    "\t- 字典与列表的比较\n",
    "\t\t1.都是可变容器\n",
    "\t\t2.索引方式不同，列表用整数索引，字典用键索引\n",
    "\t\t3.列表的存储是有序的，字典的存储是无序的\n",
    "\t\t4.字典的插入，删除，修改的速度会快与列表（重点）\n",
    "\t\t"
   ]
  },
  {
   "cell_type": "code",
   "execution_count": 28,
   "metadata": {},
   "outputs": [
    {
     "name": "stdout",
     "output_type": "stream",
     "text": [
      "{1: '春季有1，2，3月', 2: '夏季有4，5，6月', 3: '秋季有7，8，9月', 4: '冬季有10，11，12月'}\n"
     ]
    },
    {
     "ename": "StdinNotImplementedError",
     "evalue": "raw_input was called, but this frontend does not support input requests.",
     "traceback": [
      "\u001b[0;31m---------------------------------------------------------------------------\u001b[0m",
      "\u001b[0;31mStdinNotImplementedError\u001b[0m                  Traceback (most recent call last)",
      "\u001b[0;32m<ipython-input-28-d0e33428466b>\u001b[0m in \u001b[0;36m<module>\u001b[0;34m()\u001b[0m\n\u001b[1;32m      4\u001b[0m \u001b[0mseasons\u001b[0m\u001b[1;33m=\u001b[0m\u001b[0mdict\u001b[0m\u001b[1;33m(\u001b[0m\u001b[0ms1\u001b[0m\u001b[1;33m)\u001b[0m\u001b[1;33m\u001b[0m\u001b[1;33m\u001b[0m\u001b[0m\n\u001b[1;32m      5\u001b[0m \u001b[0mprint\u001b[0m\u001b[1;33m(\u001b[0m\u001b[0mseasons\u001b[0m\u001b[1;33m)\u001b[0m\u001b[1;33m\u001b[0m\u001b[1;33m\u001b[0m\u001b[0m\n\u001b[0;32m----> 6\u001b[0;31m \u001b[0mindex\u001b[0m\u001b[1;33m=\u001b[0m\u001b[0meval\u001b[0m\u001b[1;33m(\u001b[0m\u001b[0minput\u001b[0m\u001b[1;33m(\u001b[0m\u001b[1;34m\"请输入一个整数:\"\u001b[0m\u001b[1;33m)\u001b[0m\u001b[1;33m)\u001b[0m\u001b[1;33m\u001b[0m\u001b[1;33m\u001b[0m\u001b[0m\n\u001b[0m\u001b[1;32m      7\u001b[0m \u001b[1;32mif\u001b[0m \u001b[0mindex\u001b[0m \u001b[1;32min\u001b[0m \u001b[0mseasons\u001b[0m\u001b[1;33m:\u001b[0m\u001b[1;33m\u001b[0m\u001b[1;33m\u001b[0m\u001b[0m\n\u001b[1;32m      8\u001b[0m     \u001b[0mprint\u001b[0m\u001b[1;33m(\u001b[0m\u001b[0mseasons\u001b[0m\u001b[1;33m[\u001b[0m\u001b[0mindex\u001b[0m\u001b[1;33m]\u001b[0m\u001b[1;33m)\u001b[0m\u001b[1;33m\u001b[0m\u001b[1;33m\u001b[0m\u001b[0m\n",
      "\u001b[0;32mE:\\pycharm\\anaconda3\\lib\\site-packages\\ipykernel\\kernelbase.py\u001b[0m in \u001b[0;36mraw_input\u001b[0;34m(self, prompt)\u001b[0m\n\u001b[1;32m    687\u001b[0m         \u001b[1;32mif\u001b[0m \u001b[1;32mnot\u001b[0m \u001b[0mself\u001b[0m\u001b[1;33m.\u001b[0m\u001b[0m_allow_stdin\u001b[0m\u001b[1;33m:\u001b[0m\u001b[1;33m\u001b[0m\u001b[1;33m\u001b[0m\u001b[0m\n\u001b[1;32m    688\u001b[0m             raise StdinNotImplementedError(\n\u001b[0;32m--> 689\u001b[0;31m                 \u001b[1;34m\"raw_input was called, but this frontend does not support input requests.\"\u001b[0m\u001b[1;33m\u001b[0m\u001b[1;33m\u001b[0m\u001b[0m\n\u001b[0m\u001b[1;32m    690\u001b[0m             )\n\u001b[1;32m    691\u001b[0m         return self._input_request(str(prompt),\n",
      "\u001b[0;31mStdinNotImplementedError\u001b[0m: raw_input was called, but this frontend does not support input requests."
     ],
     "output_type": "error"
    }
   ],
   "source": [
    "##练习\n",
    "ss={1:'春季有1，2，3月',2:'夏季有4，5，6月',3:'秋季有7，8，9月',4:'冬季有10，11，12月'}\n",
    "s1=[[1,'春季有1，2，3月'],[2,'夏季有4，5，6月'],[3,'秋季有7，8，9月'],[4,'冬季有10，11，12月']]\n",
    "seasons=dict(s1)\n",
    "print(seasons)\n",
    "index=eval(input(\"请输入一个整数:\"))\n",
    "if index in seasons:\n",
    "    print(seasons[index])\n",
    "else:\n",
    "    print(\"信息不存在\")"
   ]
  },
  {
   "cell_type": "code",
   "execution_count": 28,
   "metadata": {},
   "outputs": [
    {
     "name": "stdout",
     "output_type": "stream",
     "text": [
      "{1: '春季有1，2，3月', 2: '夏季有4，5，6月', 3: '秋季有7，8，9月', 4: '冬季有10，11，12月'}\n"
     ]
    },
    {
     "ename": "StdinNotImplementedError",
     "evalue": "raw_input was called, but this frontend does not support input requests.",
     "traceback": [
      "\u001b[0;31m---------------------------------------------------------------------------\u001b[0m",
      "\u001b[0;31mStdinNotImplementedError\u001b[0m                  Traceback (most recent call last)",
      "\u001b[0;32m<ipython-input-28-d0e33428466b>\u001b[0m in \u001b[0;36m<module>\u001b[0;34m()\u001b[0m\n\u001b[1;32m      4\u001b[0m \u001b[0mseasons\u001b[0m\u001b[1;33m=\u001b[0m\u001b[0mdict\u001b[0m\u001b[1;33m(\u001b[0m\u001b[0ms1\u001b[0m\u001b[1;33m)\u001b[0m\u001b[1;33m\u001b[0m\u001b[1;33m\u001b[0m\u001b[0m\n\u001b[1;32m      5\u001b[0m \u001b[0mprint\u001b[0m\u001b[1;33m(\u001b[0m\u001b[0mseasons\u001b[0m\u001b[1;33m)\u001b[0m\u001b[1;33m\u001b[0m\u001b[1;33m\u001b[0m\u001b[0m\n\u001b[0;32m----> 6\u001b[0;31m \u001b[0mindex\u001b[0m\u001b[1;33m=\u001b[0m\u001b[0meval\u001b[0m\u001b[1;33m(\u001b[0m\u001b[0minput\u001b[0m\u001b[1;33m(\u001b[0m\u001b[1;34m\"请输入一个整数:\"\u001b[0m\u001b[1;33m)\u001b[0m\u001b[1;33m)\u001b[0m\u001b[1;33m\u001b[0m\u001b[1;33m\u001b[0m\u001b[0m\n\u001b[0m\u001b[1;32m      7\u001b[0m \u001b[1;32mif\u001b[0m \u001b[0mindex\u001b[0m \u001b[1;32min\u001b[0m \u001b[0mseasons\u001b[0m\u001b[1;33m:\u001b[0m\u001b[1;33m\u001b[0m\u001b[1;33m\u001b[0m\u001b[0m\n\u001b[1;32m      8\u001b[0m     \u001b[0mprint\u001b[0m\u001b[1;33m(\u001b[0m\u001b[0mseasons\u001b[0m\u001b[1;33m[\u001b[0m\u001b[0mindex\u001b[0m\u001b[1;33m]\u001b[0m\u001b[1;33m)\u001b[0m\u001b[1;33m\u001b[0m\u001b[1;33m\u001b[0m\u001b[0m\n",
      "\u001b[0;32mE:\\pycharm\\anaconda3\\lib\\site-packages\\ipykernel\\kernelbase.py\u001b[0m in \u001b[0;36mraw_input\u001b[0;34m(self, prompt)\u001b[0m\n\u001b[1;32m    687\u001b[0m         \u001b[1;32mif\u001b[0m \u001b[1;32mnot\u001b[0m \u001b[0mself\u001b[0m\u001b[1;33m.\u001b[0m\u001b[0m_allow_stdin\u001b[0m\u001b[1;33m:\u001b[0m\u001b[1;33m\u001b[0m\u001b[1;33m\u001b[0m\u001b[0m\n\u001b[1;32m    688\u001b[0m             raise StdinNotImplementedError(\n\u001b[0;32m--> 689\u001b[0;31m                 \u001b[1;34m\"raw_input was called, but this frontend does not support input requests.\"\u001b[0m\u001b[1;33m\u001b[0m\u001b[1;33m\u001b[0m\u001b[0m\n\u001b[0m\u001b[1;32m    690\u001b[0m             )\n\u001b[1;32m    691\u001b[0m         return self._input_request(str(prompt),\n",
      "\u001b[0;31mStdinNotImplementedError\u001b[0m: raw_input was called, but this frontend does not support input requests."
     ],
     "output_type": "error"
    }
   ],
   "source": [
    "##练习\n",
    "ss={1:'春季有1，2，3月',2:'夏季有4，5，6月',3:'秋季有7，8，9月',4:'冬季有10，11，12月'}\n",
    "s1=[[1,'春季有1，2，3月'],[2,'夏季有4，5，6月'],[3,'秋季有7，8，9月'],[4,'冬季有10，11，12月']]\n",
    "seasons=dict(s1)\n",
    "print(seasons)\n",
    "index=eval(input(\"请输入一个整数:\"))\n",
    "if index in seasons:\n",
    "    print(seasons[index])\n",
    "else:\n",
    "    print(\"信息不存在\")"
   ]
  },
  {
   "cell_type": "code",
   "execution_count": 28,
   "metadata": {},
   "outputs": [
    {
     "name": "stdout",
     "output_type": "stream",
     "text": [
      "{1: '春季有1，2，3月', 2: '夏季有4，5，6月', 3: '秋季有7，8，9月', 4: '冬季有10，11，12月'}\n"
     ]
    },
    {
     "ename": "StdinNotImplementedError",
     "evalue": "raw_input was called, but this frontend does not support input requests.",
     "traceback": [
      "\u001b[0;31m---------------------------------------------------------------------------\u001b[0m",
      "\u001b[0;31mStdinNotImplementedError\u001b[0m                  Traceback (most recent call last)",
      "\u001b[0;32m<ipython-input-28-d0e33428466b>\u001b[0m in \u001b[0;36m<module>\u001b[0;34m()\u001b[0m\n\u001b[1;32m      4\u001b[0m \u001b[0mseasons\u001b[0m\u001b[1;33m=\u001b[0m\u001b[0mdict\u001b[0m\u001b[1;33m(\u001b[0m\u001b[0ms1\u001b[0m\u001b[1;33m)\u001b[0m\u001b[1;33m\u001b[0m\u001b[1;33m\u001b[0m\u001b[0m\n\u001b[1;32m      5\u001b[0m \u001b[0mprint\u001b[0m\u001b[1;33m(\u001b[0m\u001b[0mseasons\u001b[0m\u001b[1;33m)\u001b[0m\u001b[1;33m\u001b[0m\u001b[1;33m\u001b[0m\u001b[0m\n\u001b[0;32m----> 6\u001b[0;31m \u001b[0mindex\u001b[0m\u001b[1;33m=\u001b[0m\u001b[0meval\u001b[0m\u001b[1;33m(\u001b[0m\u001b[0minput\u001b[0m\u001b[1;33m(\u001b[0m\u001b[1;34m\"请输入一个整数:\"\u001b[0m\u001b[1;33m)\u001b[0m\u001b[1;33m)\u001b[0m\u001b[1;33m\u001b[0m\u001b[1;33m\u001b[0m\u001b[0m\n\u001b[0m\u001b[1;32m      7\u001b[0m \u001b[1;32mif\u001b[0m \u001b[0mindex\u001b[0m \u001b[1;32min\u001b[0m \u001b[0mseasons\u001b[0m\u001b[1;33m:\u001b[0m\u001b[1;33m\u001b[0m\u001b[1;33m\u001b[0m\u001b[0m\n\u001b[1;32m      8\u001b[0m     \u001b[0mprint\u001b[0m\u001b[1;33m(\u001b[0m\u001b[0mseasons\u001b[0m\u001b[1;33m[\u001b[0m\u001b[0mindex\u001b[0m\u001b[1;33m]\u001b[0m\u001b[1;33m)\u001b[0m\u001b[1;33m\u001b[0m\u001b[1;33m\u001b[0m\u001b[0m\n",
      "\u001b[0;32mE:\\pycharm\\anaconda3\\lib\\site-packages\\ipykernel\\kernelbase.py\u001b[0m in \u001b[0;36mraw_input\u001b[0;34m(self, prompt)\u001b[0m\n\u001b[1;32m    687\u001b[0m         \u001b[1;32mif\u001b[0m \u001b[1;32mnot\u001b[0m \u001b[0mself\u001b[0m\u001b[1;33m.\u001b[0m\u001b[0m_allow_stdin\u001b[0m\u001b[1;33m:\u001b[0m\u001b[1;33m\u001b[0m\u001b[1;33m\u001b[0m\u001b[0m\n\u001b[1;32m    688\u001b[0m             raise StdinNotImplementedError(\n\u001b[0;32m--> 689\u001b[0;31m                 \u001b[1;34m\"raw_input was called, but this frontend does not support input requests.\"\u001b[0m\u001b[1;33m\u001b[0m\u001b[1;33m\u001b[0m\u001b[0m\n\u001b[0m\u001b[1;32m    690\u001b[0m             )\n\u001b[1;32m    691\u001b[0m         return self._input_request(str(prompt),\n",
      "\u001b[0;31mStdinNotImplementedError\u001b[0m: raw_input was called, but this frontend does not support input requests."
     ],
     "output_type": "error"
    }
   ],
   "source": [
    "##练习\n",
    "ss={1:'春季有1，2，3月',2:'夏季有4，5，6月',3:'秋季有7，8，9月',4:'冬季有10，11，12月'}\n",
    "s1=[[1,'春季有1，2，3月'],[2,'夏季有4，5，6月'],[3,'秋季有7，8，9月'],[4,'冬季有10，11，12月']]\n",
    "seasons=dict(s1)\n",
    "print(seasons)\n",
    "index=eval(input(\"请输入一个整数:\"))\n",
    "if index in seasons:\n",
    "    print(seasons[index])\n",
    "else:\n",
    "    print(\"信息不存在\")"
   ]
  },
  {
   "cell_type": "code",
   "execution_count": 28,
   "metadata": {},
   "outputs": [
    {
     "name": "stdout",
     "output_type": "stream",
     "text": [
      "{1: '春季有1，2，3月', 2: '夏季有4，5，6月', 3: '秋季有7，8，9月', 4: '冬季有10，11，12月'}\n"
     ]
    },
    {
     "ename": "StdinNotImplementedError",
     "evalue": "raw_input was called, but this frontend does not support input requests.",
     "traceback": [
      "\u001b[0;31m---------------------------------------------------------------------------\u001b[0m",
      "\u001b[0;31mStdinNotImplementedError\u001b[0m                  Traceback (most recent call last)",
      "\u001b[0;32m<ipython-input-28-d0e33428466b>\u001b[0m in \u001b[0;36m<module>\u001b[0;34m()\u001b[0m\n\u001b[1;32m      4\u001b[0m \u001b[0mseasons\u001b[0m\u001b[1;33m=\u001b[0m\u001b[0mdict\u001b[0m\u001b[1;33m(\u001b[0m\u001b[0ms1\u001b[0m\u001b[1;33m)\u001b[0m\u001b[1;33m\u001b[0m\u001b[1;33m\u001b[0m\u001b[0m\n\u001b[1;32m      5\u001b[0m \u001b[0mprint\u001b[0m\u001b[1;33m(\u001b[0m\u001b[0mseasons\u001b[0m\u001b[1;33m)\u001b[0m\u001b[1;33m\u001b[0m\u001b[1;33m\u001b[0m\u001b[0m\n\u001b[0;32m----> 6\u001b[0;31m \u001b[0mindex\u001b[0m\u001b[1;33m=\u001b[0m\u001b[0meval\u001b[0m\u001b[1;33m(\u001b[0m\u001b[0minput\u001b[0m\u001b[1;33m(\u001b[0m\u001b[1;34m\"请输入一个整数:\"\u001b[0m\u001b[1;33m)\u001b[0m\u001b[1;33m)\u001b[0m\u001b[1;33m\u001b[0m\u001b[1;33m\u001b[0m\u001b[0m\n\u001b[0m\u001b[1;32m      7\u001b[0m \u001b[1;32mif\u001b[0m \u001b[0mindex\u001b[0m \u001b[1;32min\u001b[0m \u001b[0mseasons\u001b[0m\u001b[1;33m:\u001b[0m\u001b[1;33m\u001b[0m\u001b[1;33m\u001b[0m\u001b[0m\n\u001b[1;32m      8\u001b[0m     \u001b[0mprint\u001b[0m\u001b[1;33m(\u001b[0m\u001b[0mseasons\u001b[0m\u001b[1;33m[\u001b[0m\u001b[0mindex\u001b[0m\u001b[1;33m]\u001b[0m\u001b[1;33m)\u001b[0m\u001b[1;33m\u001b[0m\u001b[1;33m\u001b[0m\u001b[0m\n",
      "\u001b[0;32mE:\\pycharm\\anaconda3\\lib\\site-packages\\ipykernel\\kernelbase.py\u001b[0m in \u001b[0;36mraw_input\u001b[0;34m(self, prompt)\u001b[0m\n\u001b[1;32m    687\u001b[0m         \u001b[1;32mif\u001b[0m \u001b[1;32mnot\u001b[0m \u001b[0mself\u001b[0m\u001b[1;33m.\u001b[0m\u001b[0m_allow_stdin\u001b[0m\u001b[1;33m:\u001b[0m\u001b[1;33m\u001b[0m\u001b[1;33m\u001b[0m\u001b[0m\n\u001b[1;32m    688\u001b[0m             raise StdinNotImplementedError(\n\u001b[0;32m--> 689\u001b[0;31m                 \u001b[1;34m\"raw_input was called, but this frontend does not support input requests.\"\u001b[0m\u001b[1;33m\u001b[0m\u001b[1;33m\u001b[0m\u001b[0m\n\u001b[0m\u001b[1;32m    690\u001b[0m             )\n\u001b[1;32m    691\u001b[0m         return self._input_request(str(prompt),\n",
      "\u001b[0;31mStdinNotImplementedError\u001b[0m: raw_input was called, but this frontend does not support input requests."
     ],
     "output_type": "error"
    }
   ],
   "source": [
    "##练习\n",
    "ss={1:'春季有1，2，3月',2:'夏季有4，5，6月',3:'秋季有7，8，9月',4:'冬季有10，11，12月'}\n",
    "s1=[[1,'春季有1，2，3月'],[2,'夏季有4，5，6月'],[3,'秋季有7，8，9月'],[4,'冬季有10，11，12月']]\n",
    "seasons=dict(s1)\n",
    "print(seasons)\n",
    "index=eval(input(\"请输入一个整数:\"))\n",
    "if index in seasons:\n",
    "    print(seasons[index])\n",
    "else:\n",
    "    print(\"信息不存在\")"
   ]
  },
  {
   "cell_type": "code",
   "execution_count": 29,
   "metadata": {},
   "outputs": [
    {
     "name": "stdout",
     "output_type": "stream",
     "text": [
      "{}\n{}\n{'name': '张三', 'kk': '2321', 'name4': '张三2', 'name3': '张三2'}\n"
     ]
    },
    {
     "ename": "TypeError",
     "evalue": "eval() arg 1 must be a string, bytes or code object",
     "traceback": [
      "\u001b[0;31m---------------------------------------------------------------------------\u001b[0m",
      "\u001b[0;31mTypeError\u001b[0m                                 Traceback (most recent call last)",
      "\u001b[0;32m<ipython-input-29-67f81bb70ed4>\u001b[0m in \u001b[0;36m<module>\u001b[0;34m()\u001b[0m\n\u001b[1;32m      7\u001b[0m \u001b[0md2\u001b[0m\u001b[1;33m=\u001b[0m\u001b[0mdict\u001b[0m\u001b[1;33m(\u001b[0m\u001b[1;33m[\u001b[0m\u001b[1;33m[\u001b[0m\u001b[1;34m'name'\u001b[0m\u001b[1;33m,\u001b[0m\u001b[1;34m'张三'\u001b[0m\u001b[1;33m]\u001b[0m\u001b[1;33m,\u001b[0m\u001b[1;33m[\u001b[0m\u001b[1;34m'kk'\u001b[0m\u001b[1;33m,\u001b[0m\u001b[1;34m'2321'\u001b[0m\u001b[1;33m]\u001b[0m\u001b[1;33m,\u001b[0m\u001b[1;33m[\u001b[0m\u001b[1;34m'name4'\u001b[0m\u001b[1;33m,\u001b[0m\u001b[1;34m'张三2'\u001b[0m\u001b[1;33m]\u001b[0m\u001b[1;33m,\u001b[0m\u001b[1;33m[\u001b[0m\u001b[1;34m'name3'\u001b[0m\u001b[1;33m,\u001b[0m\u001b[1;34m'张三2'\u001b[0m\u001b[1;33m]\u001b[0m\u001b[1;33m]\u001b[0m\u001b[1;33m)\u001b[0m\u001b[1;31m##键值对俩俩对应,list转dict\u001b[0m\u001b[1;33m\u001b[0m\u001b[1;33m\u001b[0m\u001b[0m\n\u001b[1;32m      8\u001b[0m \u001b[0mprint\u001b[0m\u001b[1;33m(\u001b[0m\u001b[0md2\u001b[0m\u001b[1;33m)\u001b[0m\u001b[1;33m\u001b[0m\u001b[1;33m\u001b[0m\u001b[0m\n\u001b[0;32m----> 9\u001b[0;31m \u001b[0mprint\u001b[0m\u001b[1;33m(\u001b[0m\u001b[0meval\u001b[0m\u001b[1;33m(\u001b[0m\u001b[0mli\u001b[0m\u001b[1;33m)\u001b[0m\u001b[1;33m)\u001b[0m\u001b[1;33m\u001b[0m\u001b[1;33m\u001b[0m\u001b[0m\n\u001b[0m\u001b[1;32m     10\u001b[0m \u001b[1;31m#用特殊传参生成\u001b[0m\u001b[1;33m\u001b[0m\u001b[1;33m\u001b[0m\u001b[1;33m\u001b[0m\u001b[0m\n",
      "\u001b[0;31mTypeError\u001b[0m: eval() arg 1 must be a string, bytes or code object"
     ],
     "output_type": "error"
    }
   ],
   "source": [
    "d={}\n",
    "print(d)\n",
    "d1=dict()\n",
    "print(d1)\n",
    "#用可迭代对象生成\n",
    "# li=[['name','张三'],['kk','2321'],['name4','张三2'],['name3','张三2']]\n",
    "d2=dict([['name','张三'],['kk','2321'],['name4','张三2'],['name3','张三2']])##键值对俩俩对应,list转dict\n",
    "print(d2)\n",
    "#用特殊传参生成\n"
   ]
  },
  {
   "cell_type": "code",
   "execution_count": 4,
   "metadata": {},
   "outputs": [
    {
     "ename": "SyntaxError",
     "evalue": "invalid syntax (<ipython-input-4-fefbb7f7ebf4>, line 1)",
     "traceback": [
      "\u001b[0;36m  File \u001b[0;32m\"<ipython-input-4-fefbb7f7ebf4>\"\u001b[0;36m, line \u001b[0;32m1\u001b[0m\n\u001b[0;31m    d={'name':}\u001b[0m\n\u001b[0m              ^\u001b[0m\n\u001b[0;31mSyntaxError\u001b[0m\u001b[0;31m:\u001b[0m invalid syntax\n"
     ],
     "output_type": "error"
    }
   ],
   "source": [
    "d={'name':}"
   ]
  },
  {
   "cell_type": "code",
   "execution_count": 9,
   "metadata": {},
   "outputs": [
    {
     "name": "stdout",
     "output_type": "stream",
     "text": [
      "{'name': '小张'}\n{'name': '小张', '年龄': 20}\n{'name': '小张', '年龄': 21}\n{'name': '小张'}\n"
     ]
    }
   ],
   "source": [
    "d={}\n",
    "d['name']='小张' #添加一个键值对\n",
    "print(d)\n",
    "d['年龄']=20 #添加一个年龄键值对\n",
    "print(d)\n",
    "d['年龄']+=1\n",
    "print(d)\n",
    "#删除操作\n",
    "del d['年龄']\n",
    "print(d)"
   ]
  },
  {
   "cell_type": "code",
   "execution_count": 10,
   "metadata": {},
   "outputs": [
    {
     "name": "stdout",
     "output_type": "stream",
     "text": [
      "True\nFalse\nTrue\n"
     ]
    }
   ],
   "source": [
    "# in_not in\n",
    "d={'name': '小张', '年龄': 20}\n",
    "print('name' in d)\n",
    "print(15 in d)\n",
    "print(20 not in d)"
   ]
  },
  {
   "cell_type": "markdown",
   "metadata": {},
   "source": [
    "##练习\n",
    "####写程序，实现以下需求：\n",
    "\t1.将如下数据形成一个字典seasons\n",
    "\t\t键      值\n",
    "\t\t1  ===> '春季有1，2，3月'\n",
    "\t\t2  ===> '夏季有4，5，6月'\n",
    "\t\t3  ===> '秋季有7，8，9月'\n",
    "\t\t4  ===> '冬季有10，11，12月'\n",
    "\t2.让用户输入一个整数代表这个季节，打印这个季节对应的信息，如果用户输入的信息不存在于字典内，则提示用户'信息不存在'"
   ]
  },
  {
   "cell_type": "code",
   "execution_count": 28,
   "metadata": {},
   "outputs": [
    {
     "name": "stdout",
     "output_type": "stream",
     "text": [
      "{1: '春季有1，2，3月', 2: '夏季有4，5，6月', 3: '秋季有7，8，9月', 4: '冬季有10，11，12月'}\n"
     ]
    },
    {
     "ename": "StdinNotImplementedError",
     "evalue": "raw_input was called, but this frontend does not support input requests.",
     "traceback": [
      "\u001b[0;31m---------------------------------------------------------------------------\u001b[0m",
      "\u001b[0;31mStdinNotImplementedError\u001b[0m                  Traceback (most recent call last)",
      "\u001b[0;32m<ipython-input-28-d0e33428466b>\u001b[0m in \u001b[0;36m<module>\u001b[0;34m()\u001b[0m\n\u001b[1;32m      4\u001b[0m \u001b[0mseasons\u001b[0m\u001b[1;33m=\u001b[0m\u001b[0mdict\u001b[0m\u001b[1;33m(\u001b[0m\u001b[0ms1\u001b[0m\u001b[1;33m)\u001b[0m\u001b[1;33m\u001b[0m\u001b[1;33m\u001b[0m\u001b[0m\n\u001b[1;32m      5\u001b[0m \u001b[0mprint\u001b[0m\u001b[1;33m(\u001b[0m\u001b[0mseasons\u001b[0m\u001b[1;33m)\u001b[0m\u001b[1;33m\u001b[0m\u001b[1;33m\u001b[0m\u001b[0m\n\u001b[0;32m----> 6\u001b[0;31m \u001b[0mindex\u001b[0m\u001b[1;33m=\u001b[0m\u001b[0meval\u001b[0m\u001b[1;33m(\u001b[0m\u001b[0minput\u001b[0m\u001b[1;33m(\u001b[0m\u001b[1;34m\"请输入一个整数:\"\u001b[0m\u001b[1;33m)\u001b[0m\u001b[1;33m)\u001b[0m\u001b[1;33m\u001b[0m\u001b[1;33m\u001b[0m\u001b[0m\n\u001b[0m\u001b[1;32m      7\u001b[0m \u001b[1;32mif\u001b[0m \u001b[0mindex\u001b[0m \u001b[1;32min\u001b[0m \u001b[0mseasons\u001b[0m\u001b[1;33m:\u001b[0m\u001b[1;33m\u001b[0m\u001b[1;33m\u001b[0m\u001b[0m\n\u001b[1;32m      8\u001b[0m     \u001b[0mprint\u001b[0m\u001b[1;33m(\u001b[0m\u001b[0mseasons\u001b[0m\u001b[1;33m[\u001b[0m\u001b[0mindex\u001b[0m\u001b[1;33m]\u001b[0m\u001b[1;33m)\u001b[0m\u001b[1;33m\u001b[0m\u001b[1;33m\u001b[0m\u001b[0m\n",
      "\u001b[0;32mE:\\pycharm\\anaconda3\\lib\\site-packages\\ipykernel\\kernelbase.py\u001b[0m in \u001b[0;36mraw_input\u001b[0;34m(self, prompt)\u001b[0m\n\u001b[1;32m    687\u001b[0m         \u001b[1;32mif\u001b[0m \u001b[1;32mnot\u001b[0m \u001b[0mself\u001b[0m\u001b[1;33m.\u001b[0m\u001b[0m_allow_stdin\u001b[0m\u001b[1;33m:\u001b[0m\u001b[1;33m\u001b[0m\u001b[1;33m\u001b[0m\u001b[0m\n\u001b[1;32m    688\u001b[0m             raise StdinNotImplementedError(\n\u001b[0;32m--> 689\u001b[0;31m                 \u001b[1;34m\"raw_input was called, but this frontend does not support input requests.\"\u001b[0m\u001b[1;33m\u001b[0m\u001b[1;33m\u001b[0m\u001b[0m\n\u001b[0m\u001b[1;32m    690\u001b[0m             )\n\u001b[1;32m    691\u001b[0m         return self._input_request(str(prompt),\n",
      "\u001b[0;31mStdinNotImplementedError\u001b[0m: raw_input was called, but this frontend does not support input requests."
     ],
     "output_type": "error"
    }
   ],
   "source": [
    "##练习\n",
    "ss={1:'春季有1，2，3月',2:'夏季有4，5，6月',3:'秋季有7，8，9月',4:'冬季有10，11，12月'}\n",
    "s1=[[1,'春季有1，2，3月'],[2,'夏季有4，5，6月'],[3,'秋季有7，8，9月'],[4,'冬季有10，11，12月']]\n",
    "seasons=dict(s1)\n",
    "print(seasons)\n",
    "index=eval(input(\"请输入一个整数:\"))\n",
    "if index in seasons:\n",
    "    print(seasons[index])\n",
    "else:\n",
    "    print(\"信息不存在\")"
   ]
  },
  {
   "cell_type": "code",
   "execution_count": 33,
   "metadata": {},
   "outputs": [
    {
     "name": "stdout",
     "output_type": "stream",
     "text": [
      "0\n5\n1\n2\n0 零\n5 伍\n1 一\n2 二\n{0: ['name4', '张三2'], 1: ['name4', '张三2']}\n"
     ]
    }
   ],
   "source": [
    "##迭代访问\n",
    "d={0:'零',5:'伍',1:'一',2:'二'}\n",
    "for n in d:\n",
    "    print(n)\n",
    "# dict.items()#内置方法实现遍历\n",
    "for key,value in dict.items(d):\n",
    "    print(key,value)\n",
    "d1=dict.fromkeys(range(0,2),['name4','张三2'])\n",
    "print(d1)"
   ]
  },
  {
   "cell_type": "markdown",
   "metadata": {},
   "source": [
    "##练习\n",
    "    \t输入一段字符串，打印出这个字符串中出现过的字符以及出现过的次数"
   ]
  },
  {
   "cell_type": "code",
   "execution_count": 35,
   "metadata": {},
   "outputs": [
    {
     "name": "stdout",
     "output_type": "stream",
     "text": [
      "{}\n新字典为:{'张三': '北京', '张三1': '北京', '张三2': '北京'}\nValue:北京\n"
     ]
    }
   ],
   "source": [
    "d={'name':'张三','age':20}\n",
    "dict.clear(d)\n",
    "print(d)\n",
    "seq=('张三','张三1','张三2')\n",
    "dict1=dict.fromkeys(seq,'北京')\n",
    "print('新字典为:%s'%dict1)\n",
    "print('Value:%s'%dict1.get('张三'))"
   ]
  },
  {
   "cell_type": "code",
   "execution_count": 36,
   "metadata": {},
   "outputs": [
    {
     "name": "stdout",
     "output_type": "stream",
     "text": [
      "key：dict_keys(['张三', '张三1', '张三2'])\n"
     ]
    }
   ],
   "source": [
    "#dict.keys以列表返回一个字典所有的键\n",
    "print('key：%s'%dict1.keys())"
   ]
  },
  {
   "cell_type": "code",
   "execution_count": 39,
   "metadata": {},
   "outputs": [
    {
     "name": "stdout",
     "output_type": "stream",
     "text": [
      "{'张三': '北京', '张三1': '北京', '张三2': '北京', '招': '三', '东': '北', '招三': '东北'}\ndict_values(['北京', '北京', '北京', '三', '北', '东北'])\n"
     ]
    }
   ],
   "source": [
    "#dict.update\n",
    "dict2={'招三':'东北'}\n",
    "dict1.update(dict2)\n",
    "print(dict1)\n",
    "print(dict1.values())"
   ]
  },
  {
   "cell_type": "markdown",
   "metadata": {},
   "source": [
    "## 练习\n",
    "- 任意输入很多学生的姓名，年龄，成绩，每个学生的信息存入到字典中，然后再放在列表内\n",
    "- 每个学生的信息需要手动输入：\n",
    "\t如：\n",
    "\t\t请输入姓名：tt\n",
    "\t\t请输入年龄：15\n",
    "\t\t请输入成绩：99\n",
    "\t\t<回车> 结束输入\n",
    "\t内部存储格式如下:\n",
    "\t\tinfors=[{\"name\":\"tt',\"age\":15,\"score\":99},{....}]\n",
    "\t1.打印以上的列表\n",
    "\t2.按如下表格打印学生信息\n",
    "\t\n",
    "\t+------------------+-------------------+-------------------+\n",
    "\t|   姓名\t\t| 年龄\t\t|\t成绩\t|\n",
    "\t+------------------+-------------------+-------------------+\n",
    "\t|\ttt\t|\t15\t|\t99\t|"
   ]
  },
  {
   "cell_type": "markdown",
   "metadata": {},
   "source": [
    "## 集合\n",
    "\t- 集合是可变的序列容器\n",
    "\t- 集合内的数据对象都是唯一的（不可重复）\n",
    "\t- 集合是无序的存储结构，集合中的数据没有先后顺序关系\n",
    "\t- 集合内的元素必须是不可变对象\n",
    "\t- 集合是可迭代对象\n",
    "\t- 集合是相当于只有键没有值的字典\n",
    "\t1.创建集合的构造函数\n",
    "\t\tset()创建一个空集合对象(不能用{}来创建)\n",
    "\t\tset(iter)用可迭代对象来创建新的集合对象\n",
    "\t\t注意：\n",
    "\t\t\t非空集合用{}括起来，内部的各个元素用(,)分隔开\n",
    "\t\t创建非空集合\n",
    "\t2.添加与删除操作\n",
    "\t\t添加：\n",
    "\t\t\t- add方法，把要传入的元素作为一个整个添加到集合中\n",
    "\t\t\t- update方法，把要传入的元素拆分，作为个人传入到集合中删除\n",
    "\t\t\t- remove 删除集合中需要删除的元素"
   ]
  },
  {
   "cell_type": "code",
   "execution_count": 45,
   "metadata": {},
   "outputs": [
    {
     "name": "stdout",
     "output_type": "stream",
     "text": [
      "{1, 2, 3, 5}\n<class 'set'>\n{'A', 'B', 'D', 'E', 'C'}\n<class 'set'>\n{True, 1123, (2, 12, 3), None, 'ABC'}\n<class 'set'>\n"
     ]
    }
   ],
   "source": [
    "## create set\n",
    "s={1,2,3,5}\n",
    "print(s)\n",
    "print(type(s))\n",
    "s=set('ABCDE')\n",
    "print(s)\n",
    "print(type(s))\n",
    "s1={True,None,'ABC',1123,(2,12,3)}\n",
    "print(s1)\n",
    "print(type(s1))"
   ]
  },
  {
   "cell_type": "code",
   "execution_count": 54,
   "metadata": {},
   "outputs": [
    {
     "name": "stdout",
     "output_type": "stream",
     "text": [
      "{'liu', '张飞', '管'}\n{'s', 'liu', '张飞', '管'}\n{'qqs', 'ee', '管', '张飞', 's', 'liu', 'aa'}\n{'qqs', 'ee', '管', '张飞', 's', 'liu', 'aa'}\n{'qqs', 'ee', '管', '张飞', 'liu', 'aa'}\n"
     ]
    }
   ],
   "source": [
    "## add and del\n",
    "s={\"管\",'张飞'}\n",
    "s.add('liu')\n",
    "print(s)\n",
    "s.update('ssss')##对于单独元素满足不重复性质\n",
    "print(s)\n",
    "s.update(['ee','qqs','aa'])\n",
    "print(s)\n",
    "s.update('ss')\n",
    "print(s)\n",
    "s.remove('s')\n",
    "print(s)"
   ]
  },
  {
   "cell_type": "markdown",
   "metadata": {},
   "source": [
    "#### 集合的运算\n",
    "\t- 交集 & 生成俩个集合的交集\n",
    "\t- 并集 | 生成俩个集合的并集\n",
    "\t- 补集 - 生成俩个集合的补集\n",
    "\t- 对称补集 ^ 生成俩个集合的对称补集\n",
    "\t- 子集 < 判断一个集合是另外一个集合的子集\n",
    "\t- 超集 > 判断一个集合是另外一个集合的超集"
   ]
  },
  {
   "cell_type": "code",
   "execution_count": 56,
   "metadata": {},
   "outputs": [
    {
     "name": "stdout",
     "output_type": "stream",
     "text": [
      "{'潘金莲'}\n{'西门庆', '武大郎', '武松', '潘金莲'}\n{'武大郎'}\n{'西门庆'}\n{'西门庆', '武大郎'}\nTrue\nFalse\n"
     ]
    }
   ],
   "source": [
    "##集合运算\n",
    "s1={'武大郎','潘金莲'}\n",
    "s2={'潘金莲','西门庆'}\n",
    "s3={'武松','武大郎'}\n",
    "\n",
    "#&  \n",
    "print(s1 & s2)\n",
    "\n",
    "# |\n",
    "print(s1|s2|s3)\n",
    "print(s1-s2)\n",
    "print(s2-s1)\n",
    "\n",
    "# 对称补集^\n",
    "print(s1 ^ s2)\n",
    "s4=s1|s2|s3\n",
    "#子集<判断一个集合是另外一个集合的子集\n",
    "print(s1<s4)\n",
    "##超集>判断一个集合是另一个集合的超集\n",
    "print(s1>s4)"
   ]
  },
  {
   "cell_type": "code",
   "execution_count": null,
   "metadata": {},
   "outputs": [],
   "source": []
  }
 ],
 "metadata": {
  "kernelspec": {
   "display_name": "Python 2",
   "language": "python",
   "name": "python2"
  },
  "language_info": {
   "codemirror_mode": {
    "name": "ipython",
    "version": 2
   },
   "file_extension": ".py",
   "mimetype": "text/x-python",
   "name": "python",
   "nbconvert_exporter": "python",
   "pygments_lexer": "ipython2",
   "version": "2.7.6"
  }
 },
 "nbformat": 4,
 "nbformat_minor": 0
}
