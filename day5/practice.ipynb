{
 "cells": [
  {
   "cell_type": "heading",
   "metadata": {
    "collapsed": true
   },
   "level": 1,
   "source": [
    "Day5"
   ]
  },
  {
   "cell_type": "markdown",
   "metadata": {},
   "source": [
    "## 函数\n",
    "#### 函数就是组合好的，可以重复使用的，用来实现单一或相关关联功能的代码段\n",
    "#### 作用：\n",
    "\t能提高应用的模块性和代码的重复利用率\n",
    "#### 函数创建\n",
    "##### 定义函数的规则：\n",
    "\t1.函数代码块以def关键字开头，后接函数标识符名称和圆括号'()'.\n",
    "\t2.所有传入的参数和自变量都必须在圆括号中，可以在圆括号中定义参数。\n",
    "\t3.函数的第一行语句可以选择性使用文档字符串，用于存放函数说明\n",
    "\t4.return[表达式]结束函数，选择性返回一个值给调用方，不带表达式的return相当于返回None.\n",
    "#### 语法：\n",
    "\tdef 函数名(参数列表)\n",
    "\t\t函数体\n",
    "\t\t\n",
    "#### 函数的调用：\n",
    "\t\n",
    "#### 函数的参数：\n",
    "\t参数分类：位置传参，序列传参，关键字参数，默认参数，字典关键字传参，综合传参\n",
    "\t形参：（形式参数）\n",
    "\t\t在用def关键字定义函数时函数名后面括号里的变量\n",
    "\t实参：（实际参数）\n",
    "\t\t在调用函数时提供的值或变量\n"
   ]
  },
  {
   "cell_type": "markdown",
   "metadata": {},
   "source": [
    "1.位置传参\n",
    "\t定义：实际参数（实参）的对应关系与形式参数的对应关系是按照位置来的\n",
    "说明：\n",
    "\t序列传参时，序列拆解的位置将与形参一一对应\n",
    "\t序列的位置信息对应相应的形参位置"
   ]
  },
  {
   "cell_type": "code",
   "execution_count": 4,
   "metadata": {},
   "outputs": [],
   "source": [
    "def student(name,age,sex):\n",
    "    print('姓名:',name)\n",
    "    print('年龄:',age)\n",
    "    print('性别:',sex)"
   ]
  },
  {
   "cell_type": "markdown",
   "metadata": {},
   "source": [
    "2.序列传参\n",
    "\t序列传参是指在函数调用过程中，用*将序列拆解后按位置进行传递的传参方式"
   ]
  },
  {
   "cell_type": "code",
   "execution_count": 5,
   "metadata": {},
   "outputs": [
    {
     "name": "stdout",
     "output_type": "stream",
     "text": [
      "姓名: 小明\n年龄: 21\n性别: 男\n"
     ]
    }
   ],
   "source": [
    "def student(name,age,sex):\n",
    "    print('姓名:',name)\n",
    "    print('年龄:',age)\n",
    "    print('性别:',sex)\n",
    "s1=['小明',21,'男']\n",
    "student(*s1)"
   ]
  },
  {
   "cell_type": "markdown",
   "metadata": {},
   "source": [
    "3.默认传参\n",
    "\t调用函数时，如果没有传递参数，就会使用默认参数\n",
    "\t使用默认参数，就是在函数定义时，给参数一个默认值.如果没有给调用的函数参数赋值，调用的函数就使用默认参数"
   ]
  },
  {
   "cell_type": "code",
   "execution_count": 6,
   "metadata": {},
   "outputs": [
    {
     "name": "stdout",
     "output_type": "stream",
     "text": [
      "姓名: 校长\n年龄: 21\n性别: 男\n"
     ]
    }
   ],
   "source": [
    "def student(name='校长',age=21,sex='男'):\n",
    "    print('姓名:',name)\n",
    "    print('年龄:',age)\n",
    "    print('性别:',sex)\n",
    "student()"
   ]
  },
  {
   "cell_type": "markdown",
   "metadata": {},
   "source": [
    "关键字传参"
   ]
  },
  {
   "cell_type": "code",
   "execution_count": 9,
   "metadata": {},
   "outputs": [
    {
     "name": "stdout",
     "output_type": "stream",
     "text": [
      "姓名: 老王\n年龄: 21\n性别: 女\n英语成绩 90\n数学成绩 78\n"
     ]
    }
   ],
   "source": [
    "def student(Math,English,name='校长',age=21,sex='男'):\n",
    "    print('姓名:',name)\n",
    "    print('年龄:',age)\n",
    "    print('性别:',sex)\n",
    "    print('英语成绩',English)\n",
    "    print('数学成绩',Math)\n",
    "student(78,90,name='老王',sex='女')"
   ]
  },
  {
   "cell_type": "markdown",
   "metadata": {},
   "source": [
    "字典关键字传参\n",
    "\t定义：\n",
    "\t\t是指实参为字典，将字典用'**'拆解后再进行关键字传参的传参方式\n",
    "\t说明：\n",
    "\t\t字典的键名和形参名必须一致\n",
    "\t\t字典的键名必须为字符串(标识符)\n",
    "\t\t字典的键名要在形参中存在"
   ]
  },
  {
   "cell_type": "code",
   "execution_count": 12,
   "metadata": {},
   "outputs": [
    {
     "name": "stdout",
     "output_type": "stream",
     "text": [
      "姓名: 老王\n年龄: 18\n性别: 女\n英语成绩 90\n数学成绩 78\n"
     ]
    }
   ],
   "source": [
    "def student(Math,English,name='校长',age=21,sex='男'):\n",
    "    print('姓名:',name)\n",
    "    print('年龄:',age)\n",
    "    print('性别:',sex)\n",
    "    print('英语成绩',English)\n",
    "    print('数学成绩',Math)\n",
    "d={'age':18,'Math':78,'English':90,'name':'老王','sex':'女'}\n",
    "student(**d)"
   ]
  },
  {
   "cell_type": "markdown",
   "metadata": {},
   "source": [
    "综合传参\n",
    "\t函数传参方式不限，但要唯一匹配到对应参数"
   ]
  },
  {
   "cell_type": "code",
   "execution_count": 14,
   "metadata": {},
   "outputs": [
    {
     "name": "stdout",
     "output_type": "stream",
     "text": [
      "100 200 300\n100 200 300\n100 200 300\n100 200 300\n100 200 300\n<class 'int'>\n"
     ]
    }
   ],
   "source": [
    "def myfun1(a,b,c):\n",
    "    print(a,b,c)\n",
    "#调用\n",
    "myfun1(100,*[200,300])\n",
    "myfun1(*(100,200),300)\n",
    "myfun1(*[100],200,*(300,))\n",
    "myfun1(100,c=300,b=200)\n",
    "myfun1(100,**{'c':300,'b':200})\n",
    "print(type((300,)))"
   ]
  },
  {
   "cell_type": "markdown",
   "metadata": {},
   "source": [
    "函数分类\n",
    "\t1.有参函数与无参函数\n",
    "\t\t可变内容能用参数代替，不可变内容不能用参数代替。\n",
    "\t2.有返回值函数与无返回值的函数\n",
    "练习：\n",
    "\t写一个函数minmax(a,b,c)有三个参数，返回这三个参数中的最小值与最大值\n",
    "\t要求，形成元组，最小值在前，最大值在后\n",
    "\t\t"
   ]
  },
  {
   "cell_type": "code",
   "execution_count": 17,
   "metadata": {},
   "outputs": [
    {
     "name": "stdout",
     "output_type": "stream",
     "text": [
      "姓名: 校长\n年龄: 21\n性别: 男\n姓名: 校长\n年龄: 21\n性别: 男\n"
     ]
    }
   ],
   "source": [
    "def student():\n",
    "    print('姓名:','校长')\n",
    "    print('年龄:',21)\n",
    "    print('性别:','男')\n",
    "student()\n",
    "def student(name,age,sex):\n",
    "    print('姓名:',name)\n",
    "    print('年龄:',age)\n",
    "    print('性别:',sex)\n",
    "student('校长',21,'男')"
   ]
  },
  {
   "cell_type": "code",
   "execution_count": null,
   "metadata": {},
   "outputs": [],
   "source": [
    "##有返回值函数\n",
    "def student(name,age,sex):\n",
    "    print('姓名:',name)\n",
    "    print('年龄:',age)\n",
    "    print('性别:',sex)\n",
    "    return name\n",
    "r=student('校长',21,'男')\n",
    "print(r)"
   ]
  },
  {
   "cell_type": "code",
   "execution_count": 24,
   "metadata": {},
   "outputs": [
    {
     "name": "stdout",
     "output_type": "stream",
     "text": [
      "(0.1, 56)\n"
     ]
    }
   ],
   "source": [
    "##练习\n",
    "def minmax(a,b,c):\n",
    "    list1=[a,b,c]\n",
    "    return tuple([min(list1),max(list1)])\n",
    "d=minmax(1,56,0.1)\n",
    "print(d)"
   ]
  },
  {
   "cell_type": "markdown",
   "metadata": {},
   "source": [
    "星号元组形参"
   ]
  },
  {
   "cell_type": "code",
   "execution_count": 25,
   "metadata": {},
   "outputs": [],
   "source": [
    "def a(*args):\n",
    "    print(len(args))"
   ]
  },
  {
   "cell_type": "markdown",
   "metadata": {},
   "source": [
    "命名关键字形参"
   ]
  },
  {
   "cell_type": "code",
   "execution_count": 25,
   "metadata": {},
   "outputs": [
    {
     "name": "stdout",
     "output_type": "stream",
     "text": [
      "a= 2\nb= 1\na= 100\nb= 200\nargs= (1, 2, 3, 4)\na= 100\nb= 200\n"
     ]
    }
   ],
   "source": [
    "def fa(*,a,b):\n",
    "    print('a=',a)\n",
    "    print('b=',b)\n",
    "def fb(*args,a,b):\n",
    "    print('args=',args)\n",
    "    print('a=',a)\n",
    "    print('b=',b)\n",
    "fa(b=1,a=2)\n",
    "fa(**{'b':200,'a':100})\n",
    "fb(1,2,3,4,b=200,a=100)"
   ]
  },
  {
   "cell_type": "markdown",
   "metadata": {},
   "source": [
    "双星号字典形成\n",
    "\t语法：\n",
    "\t\tdef 函数名(**字典形参名)\n",
    "\t\t\t语句块\n",
    "\t作用：\n",
    "\t\t收集多余的关键字传参\n",
    "\t说明：\n",
    "\t\t字典形参通常命名kargs"
   ]
  },
  {
   "cell_type": "code",
   "execution_count": 26,
   "metadata": {},
   "outputs": [
    {
     "name": "stdout",
     "output_type": "stream",
     "text": [
      "关键字传参个数： 2\nkargs= {'name': 'tt', 'age': 11}\n"
     ]
    }
   ],
   "source": [
    "def fa(**kwargs):\n",
    "    print('关键字传参个数：',len(kwargs))\n",
    "    print('kargs=',kwargs)\n",
    "fa(name='tt',age=11)"
   ]
  },
  {
   "cell_type": "markdown",
   "metadata": {},
   "source": [
    "函数的参数说明\n",
    "    位置形参，默认参数，星号元组形参，双星号字典形参可以混合使用，函数形参顺序，左到右：\n",
    "1."
   ]
  },
  {
   "cell_type": "code",
   "execution_count": 28,
   "metadata": {},
   "outputs": [
    {
     "name": "stdout",
     "output_type": "stream",
     "text": [
      "100 200 (300, 400) {'c': 'c', 'd': 'D', 'e': 'E'}\n"
     ]
    }
   ],
   "source": [
    "def fx(a,b,*args,**kwargs):\n",
    "    print(a,b,args,kwargs)\n",
    "fx(100,200,300,400,c=\"c\",d=\"D\",e=\"E\")"
   ]
  },
  {
   "cell_type": "markdown",
   "metadata": {},
   "source": [
    "函数不定长参数\n",
    "\n",
    "练习\n",
    "\t写一个函数，mymax类似与内置函数max\n",
    "\t详见max\n",
    "\t\thelp(max)\n",
    "\t仿造max写一个mymax函数，功能与max完全相同"
   ]
  },
  {
   "cell_type": "code",
   "execution_count": 29,
   "metadata": {},
   "outputs": [
    {
     "name": "stdout",
     "output_type": "stream",
     "text": [
      "('刘备', 1, 2, 3, ['one', 'two']) {'a': 1, 'b': '貂蝉', 'c': 'lvu'}\n"
     ]
    }
   ],
   "source": [
    "def fn(*args,**kwargs):\n",
    "    print(args,kwargs)\n",
    "fn('刘备',1,2,3,['one','two'],a=1,b='貂蝉',c='lvu')"
   ]
  },
  {
   "cell_type": "code",
   "execution_count": 1,
   "metadata": {},
   "outputs": [
    {
     "name": "stdout",
     "output_type": "stream",
     "text": [
      "[21, 32, 42, 12]\n42\n(200, 44)\n100\n200\n"
     ]
    }
   ],
   "source": [
    "##练习\n",
    "def mymax(a,*args,key=None):\n",
    "    if len(args)==0:#实参个数等于1\n",
    "        print(a)\n",
    "        max=a[0]\n",
    "        for x in a:\n",
    "            if x>max:\n",
    "                max=x\n",
    "        return max\n",
    "    else:#实际参数大于1\n",
    "        print(args)\n",
    "        print(a)\n",
    "        max=a\n",
    "        for x in args:\n",
    "            if x>max:\n",
    "                max=x\n",
    "        return max\n",
    "    # seq=list(args)\n",
    "    # max=0\n",
    "    # print(args)\n",
    "    # print(seq)\n",
    "    # for i in range(len(args)):\n",
    "    #     if args[i]>max:\n",
    "    #         max=args[i]\n",
    "    # return max\n",
    "print(mymax([21,32,42,12]))\n",
    "print(mymax(100,200,44))"
   ]
  },
  {
   "cell_type": "markdown",
   "metadata": {},
   "source": [
    "变量作用域\n",
    "\t作用域：变量命名空间\n",
    "\t最基础的两种变量作用域，局部与全局\n",
    "1.局部变量\n",
    "定义：\n",
    "\t1.定义在函数内部的变量称为局部变量（函数的形参也是局部变量）\n",
    "\t2.局部变量只能在函数内部使用\n",
    "\t3.局部变量在函数调用时才能够创建，在函数调用之后就会自动销毁\n",
    "2.全局变量\n",
    "定义：\n",
    "\t定义在函数外部，模块内部的变量\n",
    "\t全局变量所有函数都可以直接访问（但函数内不能将其赋值）\n",
    "3.globals()/locals函数\n",
    "\tglobals\n",
    "\t\t返回当前全局作用域内变量的字典\n",
    "\tlocals\n",
    "\t\t返回当前局部作用域内变量的字典"
   ]
  },
  {
   "cell_type": "code",
   "execution_count": 47,
   "metadata": {},
   "outputs": [
    {
     "name": "stdout",
     "output_type": "stream",
     "text": [
      "100000 100 300 400\n全局内 100 100\n"
     ]
    }
   ],
   "source": [
    "#局部变量\n",
    "\n",
    "a=100\n",
    "b=100\n",
    "\n",
    "def fx(c):\n",
    "    d=400\n",
    "    a=100000\n",
    "    print(a,b,c,d)\n",
    "fx(300)\n",
    "print('全局内',a,b)"
   ]
  },
  {
   "cell_type": "code",
   "execution_count": 53,
   "metadata": {},
   "outputs": [],
   "source": [
    "#3.globals/locals\n",
    "a=1\n",
    "b=1\n",
    "c=3\n",
    "\n",
    "def fn(c,d):\n",
    "    e=33\n",
    "    #此处有几个局部变量\n",
    "    print('locals()返回:',locals())\n",
    "    print('-----------------------')\n",
    "    print('globals()返回:',globals())\n",
    "    print('局部变量C的值是：',c)\n",
    "    print('全局变量c值:',globals()['c'])\n",
    "\n",
    "fn(100,200)\n",
    "print('==========================')\n",
    "print('全局的globals()返回',globals())"
   ]
  },
  {
   "cell_type": "markdown",
   "metadata": {},
   "source": [
    "#### 4.函数变量\n",
    "- 函数名是变量，它在def语句创建函数时绑定一个函数\n",
    "- 一个函数还可以作为另一个函数的实参进行传递\n",
    "- 函数还可以作为另一个函数的返回值"
   ]
  },
  {
   "cell_type": "code",
   "execution_count": 2,
   "metadata": {},
   "outputs": [
    {
     "name": "stdout",
     "output_type": "stream",
     "text": [
      "hello world\nhello world\n"
     ]
    }
   ],
   "source": [
    "def fa():\n",
    "    print('hello world')\n",
    "\n",
    "f1=fa\n",
    "f1()\n",
    "fa()"
   ]
  },
  {
   "cell_type": "code",
   "execution_count": 4,
   "metadata": {},
   "outputs": [
    {
     "name": "stdout",
     "output_type": "stream",
     "text": [
      "<function f1 at 0x0000019043B43950>\n<function f2 at 0x00000190436C1B70>\n"
     ]
    }
   ],
   "source": [
    "def f1():\n",
    "    print('f1被调用!')\n",
    "def f2():\n",
    "    print('f2被调用!')\n",
    "def fx(fn):\n",
    "    print(fn)\n",
    "    # fn()##此时调用的是什么\n",
    "fx(f1)\n",
    "fx(f2)"
   ]
  },
  {
   "cell_type": "code",
   "execution_count": 5,
   "metadata": {},
   "outputs": [
    {
     "name": "stdout",
     "output_type": "stream",
     "text": [
      "[2, 4, 6, 8]\n"
     ]
    },
    {
     "ename": "StdinNotImplementedError",
     "evalue": "raw_input was called, but this frontend does not support input requests.",
     "traceback": [
      "\u001b[0;31m---------------------------------------------------------------------------\u001b[0m",
      "\u001b[0;31mStdinNotImplementedError\u001b[0m                  Traceback (most recent call last)",
      "\u001b[0;32m<ipython-input-5-713a67dca597>\u001b[0m in \u001b[0;36m<module>\u001b[0;34m()\u001b[0m\n\u001b[1;32m      9\u001b[0m \u001b[0mL\u001b[0m\u001b[1;33m=\u001b[0m\u001b[1;33m[\u001b[0m\u001b[0mi\u001b[0m \u001b[1;32mfor\u001b[0m \u001b[0mi\u001b[0m \u001b[1;32min\u001b[0m \u001b[0mrange\u001b[0m\u001b[1;33m(\u001b[0m\u001b[1;36m2\u001b[0m\u001b[1;33m,\u001b[0m\u001b[1;36m9\u001b[0m\u001b[1;33m,\u001b[0m\u001b[1;36m2\u001b[0m\u001b[1;33m)\u001b[0m\u001b[1;33m]\u001b[0m\u001b[1;33m\u001b[0m\u001b[1;33m\u001b[0m\u001b[0m\n\u001b[1;32m     10\u001b[0m \u001b[0mprint\u001b[0m\u001b[1;33m(\u001b[0m\u001b[0mL\u001b[0m\u001b[1;33m)\u001b[0m\u001b[1;33m\u001b[0m\u001b[1;33m\u001b[0m\u001b[0m\n\u001b[0;32m---> 11\u001b[0;31m \u001b[0mf\u001b[0m\u001b[1;33m=\u001b[0m\u001b[0mget_op\u001b[0m\u001b[1;33m(\u001b[0m\u001b[1;33m)\u001b[0m\u001b[1;33m\u001b[0m\u001b[1;33m\u001b[0m\u001b[0m\n\u001b[0m\u001b[1;32m     12\u001b[0m \u001b[0mprint\u001b[0m\u001b[1;33m(\u001b[0m\u001b[0mf\u001b[0m\u001b[1;33m(\u001b[0m\u001b[0mL\u001b[0m\u001b[1;33m)\u001b[0m\u001b[1;33m)\u001b[0m\u001b[1;33m\u001b[0m\u001b[1;33m\u001b[0m\u001b[0m\n",
      "\u001b[0;32m<ipython-input-5-713a67dca597>\u001b[0m in \u001b[0;36mget_op\u001b[0;34m()\u001b[0m\n\u001b[1;32m      1\u001b[0m \u001b[1;32mdef\u001b[0m \u001b[0mget_op\u001b[0m\u001b[1;33m(\u001b[0m\u001b[1;33m)\u001b[0m\u001b[1;33m:\u001b[0m\u001b[1;33m\u001b[0m\u001b[1;33m\u001b[0m\u001b[0m\n\u001b[0;32m----> 2\u001b[0;31m     \u001b[0ms\u001b[0m\u001b[1;33m=\u001b[0m\u001b[0minput\u001b[0m\u001b[1;33m(\u001b[0m\u001b[1;34m'请输入您要做的操作:'\u001b[0m\u001b[1;33m)\u001b[0m\u001b[1;33m\u001b[0m\u001b[1;33m\u001b[0m\u001b[0m\n\u001b[0m\u001b[1;32m      3\u001b[0m     \u001b[1;32mif\u001b[0m \u001b[0ms\u001b[0m\u001b[1;33m==\u001b[0m\u001b[1;34m'求最大'\u001b[0m\u001b[1;33m:\u001b[0m\u001b[1;33m\u001b[0m\u001b[1;33m\u001b[0m\u001b[0m\n\u001b[1;32m      4\u001b[0m         \u001b[1;32mreturn\u001b[0m \u001b[0mmax\u001b[0m\u001b[1;33m\u001b[0m\u001b[1;33m\u001b[0m\u001b[0m\n\u001b[1;32m      5\u001b[0m     \u001b[1;32melif\u001b[0m \u001b[0ms\u001b[0m\u001b[1;33m==\u001b[0m\u001b[1;34m'求最小'\u001b[0m\u001b[1;33m:\u001b[0m\u001b[1;33m\u001b[0m\u001b[1;33m\u001b[0m\u001b[0m\n",
      "\u001b[0;32mE:\\pycharm\\anaconda3\\lib\\site-packages\\ipykernel\\kernelbase.py\u001b[0m in \u001b[0;36mraw_input\u001b[0;34m(self, prompt)\u001b[0m\n\u001b[1;32m    687\u001b[0m         \u001b[1;32mif\u001b[0m \u001b[1;32mnot\u001b[0m \u001b[0mself\u001b[0m\u001b[1;33m.\u001b[0m\u001b[0m_allow_stdin\u001b[0m\u001b[1;33m:\u001b[0m\u001b[1;33m\u001b[0m\u001b[1;33m\u001b[0m\u001b[0m\n\u001b[1;32m    688\u001b[0m             raise StdinNotImplementedError(\n\u001b[0;32m--> 689\u001b[0;31m                 \u001b[1;34m\"raw_input was called, but this frontend does not support input requests.\"\u001b[0m\u001b[1;33m\u001b[0m\u001b[1;33m\u001b[0m\u001b[0m\n\u001b[0m\u001b[1;32m    690\u001b[0m             )\n\u001b[1;32m    691\u001b[0m         return self._input_request(str(prompt),\n",
      "\u001b[0;31mStdinNotImplementedError\u001b[0m: raw_input was called, but this frontend does not support input requests."
     ],
     "output_type": "error"
    }
   ],
   "source": [
    "def get_op():\n",
    "    s=input('请输入您要做的操作:')\n",
    "    if s=='求最大':\n",
    "        return max\n",
    "    elif s=='求最小':\n",
    "        return min\n",
    "    elif s=='求和':\n",
    "        return sum()\n",
    "L=[i for i in range(2,9,2)]\n",
    "print(L)\n",
    "f=get_op()\n",
    "print(f(L))"
   ]
  },
  {
   "cell_type": "markdown",
   "metadata": {},
   "source": [
    "### 5.Python的作用域\n",
    "- 作用域也叫名字空间，是访问变量是查找变量名的范围空间\n",
    "- LEGB\n",
    "- L 局部作用域（函数内）\n",
    "- E 外部嵌套函数作用域\n",
    "- G 函数定义所有模块（文件作用域）\n",
    "- B Python内建模块的作用域\n",
    "\n",
    "\n",
    "### 6.global语句\n",
    "1.global语句作用：\n",
    "\t- 告诉解释执行器global语句声明一个或多个变量，这些变量的作用域为模块级的作用域，也称作全局变量。\n",
    "\t- 全局声明(global)将赋值语句操作的变量映射到模块文件内部的作用域\n",
    "\t语法：\n",
    "\t\tglobal 变量1, 变量2.......\n",
    "\t说明：\n",
    "\t\t1.全局变量如果要在函数内部被赋值，则必须经过全局声明（否则会被认为创建局部变量）\n",
    "\t\t2.全局变量在函数内部不经过声明就可以直接访问（变量已经存在并关联一个对象）\n",
    "\t\t3.不能先声明局部变量，再用global声明为全局变量，此做法不和规定\n",
    "\t\t4.global变量列表里面的变量名，不能出现在此作用域的形参列表\n",
    "异常操作：\n",
    "1.错误的定义与特征\n",
    "\t什么是错误：错误是由于逻辑或语法等导致一个程序无法正常执行的问题\n",
    "\t错误的特征：有些错误无法预知\n",
    "2.异常的定义\n",
    "\t异常是程序错误是表示的一种状态\n",
    "\t当异常发生时，程序不会再向下执行，而转去调用此函数的地方待处理此错误并回去为正常状态\n",
    "\t语句：\n",
    "\t\t1.try\n",
    "\t\t\t- try -except语句\n",
    "\t\t\t\ttry：\n",
    "\t\t\t\t\t可能触发异常的语句\n",
    "\t\t\t\texcept 错误类型1[as 变量1]:\n",
    "\t\t\t\t\t异常处理语句1\n",
    "\t\t\t\texcept 错误类型2[as 变量2]:\n",
    "\t\t\t\t\t异常处理语句2\n",
    "\t\t\t\texcept （错误类型3，错误类型4....）[as 变量3]:\n",
    "\t\t\t\t\t异常处理语句3\n",
    "\t\t\t\t......\n",
    "\t\t\t\texcept:\n",
    "\t\t\t\t\t异常处理语句(其他)\n",
    "\t\t\t\telse：\n",
    "\t\t\t\t\t未发生异常的语句\n",
    "\t\t\t\tfinally:\n",
    "\t\t\t\t\t最终语句\n",
    "\t\t作用：\n",
    "\t\t\t尝试捕获异常，将程序由异常状态转为正常，并正常执行。\t"
   ]
  },
  {
   "cell_type": "code",
   "execution_count": 6,
   "metadata": {},
   "outputs": [
    {
     "name": "stdout",
     "output_type": "stream",
     "text": [
      "fn内v: 200\nv= 200\n"
     ]
    }
   ],
   "source": [
    "v=100\n",
    "def fn():\n",
    "    global v\n",
    "    v=200\n",
    "    print('fn内v:',v)\n",
    "fn()\n",
    "print('v=',v)"
   ]
  },
  {
   "cell_type": "code",
   "execution_count": 7,
   "metadata": {},
   "outputs": [
    {
     "ename": "SyntaxError",
     "evalue": "name 'v' is parameter and global (<ipython-input-7-3295402a69a3>, line 4)",
     "traceback": [
      "\u001b[0;36m  File \u001b[0;32m\"<ipython-input-7-3295402a69a3>\"\u001b[0;36m, line \u001b[0;32m4\u001b[0m\n\u001b[0;31m    global v ##会报错第三条\u001b[0m\n\u001b[0m    ^\u001b[0m\n\u001b[0;31mSyntaxError\u001b[0m\u001b[0;31m:\u001b[0m name 'v' is parameter and global\n"
     ],
     "output_type": "error"
    }
   ],
   "source": [
    "##注意点\n",
    "v=100\n",
    "def fx(v):\n",
    "    global v ##会报错第三条\n",
    "    print(v)\n",
    "fx(200)\n",
    "print('v=',v)"
   ]
  },
  {
   "cell_type": "code",
   "execution_count": null,
   "metadata": {},
   "outputs": [],
   "source": [
    "##except\n",
    "def div_apple(n):\n",
    "    print('%d个苹果您想分给几个人？'%n)\n",
    "    s=input('请输入人数')\n",
    "    cnt=int(s)\n",
    "    result=n/cnt\n",
    "    print('每个人分了%d个苹果'%result)\n",
    "print('开始分苹果')\n",
    "div_apple(10)\n",
    "print('分苹果')"
   ]
  }
 ],
 "metadata": {
  "kernelspec": {
   "display_name": "Python 2",
   "language": "python",
   "name": "python2"
  },
  "language_info": {
   "codemirror_mode": {
    "name": "ipython",
    "version": 2
   },
   "file_extension": ".py",
   "mimetype": "text/x-python",
   "name": "python",
   "nbconvert_exporter": "python",
   "pygments_lexer": "ipython2",
   "version": "2.7.6"
  }
 },
 "nbformat": 4,
 "nbformat_minor": 0
}
