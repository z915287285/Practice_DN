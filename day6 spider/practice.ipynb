{
 "cells": [
  {
   "cell_type": "heading",
   "metadata": {
    "collapsed": true
   },
   "level": 1,
   "source": [
    "Day6 爬虫"
   ]
  },
  {
   "cell_type": "markdown",
   "metadata": {},
   "source": [
    "(Request Header)\n",
    "```\n",
    "接受数据类型\n",
    "Accept: text/html,application/xhtml+xml,application/xml;q=0.9,image/webp,image/apng,*/*;q=0.8\n",
    "是否支持压缩/解压缩\n",
    "Accept-Encoding: gzip, deflate, br\n",
    "支持语言\n",
    "Accept-Language: zh-CN,zh;q=0.9,en;q=0.8\n",
    "缓冲控制\n",
    "max -age>0 直接从浏览器缓存中提取\n",
    "max -age<=0 需要请求\n",
    "Cache-Control: max-age=0\n",
    "\n",
    "Connection: keep-alive\n",
    "Cookie: BDUSS=Gg4RlNWa1F3THZiWWtxakFsNURtdWxScWt1dUVRdGJBNlhsTlk0d0hzMU1YRzFhQVFBQUFBJCQAAAAAAAAAAAEAAACMfz6fUGF1bGNsZXZlcs~-s6wAAAAAAAAAAAAAAAAAAAAAAAAAAAAAAAAAAAAAAAAAAAAAAAAAAAAAAAAAAAAAAAAAAEzPRVpMz0VaU; BAIDUID=0D9DAEA1BFD438D0D9CC8C87F3A2FF14:FG=1; PSTM=1538463729; BIDUPSID=EE43A34A64ACE354CF0B2A2655AF7F0D; BD_UPN=12314753; BDORZ=B490B5EBF6F3CD402E515D22BCDA1598; COOKIE_SESSION=1_1_2_2_1_0_0_0_2_0_0_0_0_0_0_5_1561075911_1561356661_1561356656%7C3%230_1_1561356656%7C1; BD_HOME=1; H_PS_PSSID=26524_1431_21105_18559_29135_29238_28518_29098_28837_29220_28702; BDRCVFR[feWj1Vr5u3D]=I67x6TjHwwYf0; delPer=0; BD_CK_SAM=1; PSINO=1; H_PS_645EC=7246hJk0r0O%2FqK1T5oWIa%2BvCXCDYeygB0NzPgf2AoETgjlKDPyldbJxkYgyZ0dvcQY0y\n",
    "Host: www.baidu.com\n",
    "Upgrade-Insecure-Requests: 1\n",
    "User-Agent: Mozilla/5.0 (Windows NT 10.0; WOW64) AppleWebKit/537.36 (KHTML, like Gecko) Chrome/71.0.3578.98 Safari/537.36\n",
    "```\n",
    "\n",
    "#Get 和 Post\n",
    "1.GET:查询参数在URL上面显示出来\n",
    "2.POST：Form表单提交，传输最大文件，数据隐藏在Form表单中，不会再URL低智商显示\n",
    "\n",
    "# 爬虫请求模块（urllib.request)\n",
    "常用方法：\n",
    "urllib.request.urlopen()\n",
    "作用：像网站发起请求并获取响应对象\n",
    "重构User-Agent\n",
    "\t-不支持重构 User-Agent :urlopen()\n",
    "\t- 支持重构 User-Agent：urllib.request.Request()\n",
    "urllib.request.Request('URL',headers={})\n",
    "使用流程：\n",
    "\t1.创建请求对象\n",
    "\t\n",
    "\t2.发请求获取响应对象\n",
    "\n",
    "\t3.获取响应内容"
   ]
  },
  {
   "cell_type": "markdown",
   "metadata": {},
   "source": [
    "3.响应对象(response)方法\n",
    "\t1.read()\n",
    "\t2.getcode() 返回HTTP响应码\n",
    "\t\t200：成功\n",
    "\t\t302：临时转移至新的URL\n",
    "\t\t404：页面未找到\n",
    "\t\t500：服务器异常\n",
    "\t3.geturl()\n",
    "\t\t返回实际的数据的URL\n",
    "编码模块（urllib.parse)\n",
    "\t1.urllib.parse.urlencode({})\n",
    "\t\n",
    "\t写程序\n",
    "\t\t请输入你要搜索的内容:...........\n",
    "\t\t保存到本地文件:.......html"
   ]
  },
  {
   "cell_type": "markdown",
   "metadata": {},
   "source": [
    "案例：百度贴吧数据抓取\n",
    "\t1.要求\n",
    "\t\t- 输入抓取贴吧名称\n",
    "\t\t- 起始页\n",
    "\t\t- 终止页\n",
    "\t\t- 保存到本地：第一页.html  第二页.html\n",
    "\t2.步骤\n",
    "\t\t- 找URL规律，拼接URL\n",
    "\t\t\t第一页 http://\n",
    "\t\t- 获取页面内容（发请求获取响应）\n",
    "\t\t- 保存（本地，数据库）"
   ]
  },
  {
   "cell_type": "code",
   "execution_count": null,
   "metadata": {},
   "outputs": [],
   "source": []
  }
 ],
 "metadata": {
  "kernelspec": {
   "display_name": "Python 2",
   "language": "python",
   "name": "python2"
  },
  "language_info": {
   "codemirror_mode": {
    "name": "ipython",
    "version": 2
   },
   "file_extension": ".py",
   "mimetype": "text/x-python",
   "name": "python",
   "nbconvert_exporter": "python",
   "pygments_lexer": "ipython2",
   "version": "2.7.6"
  }
 },
 "nbformat": 4,
 "nbformat_minor": 0
}
