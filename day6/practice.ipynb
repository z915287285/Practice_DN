{
 "cells": [
  {
   "cell_type": "heading",
   "metadata": {
    "collapsed": true
   },
   "level": 1,
   "source": [
    "Day 6"
   ]
  },
  {
   "cell_type": "markdown",
   "metadata": {},
   "source": [
    "## 文件操作\n",
    "1.文件File定义\n",
    "\t文件是用于数据存储的单位\n",
    "\t文件通常用来长期存储数据\n",
    "\t文件中的数据是以字节为单位进行顺序存储\n",
    "2.文件的操作流程\n",
    "\t打开文件\n",
    "\t读/写文件\n",
    "\t关闭文件\n",
    "\t注意：任何操作系统，一个应用程序同时打开的文件数量有最大数限制\n",
    "3.文本文件的操作\n",
    "\t文件的打开与关闭\n",
    "\topen(filename,mode='rt')用于打开一个文件，返回此文件流对象，如果打开文件失败，则出发OSERROR错误\n",
    "\t文件的关闭方法\n",
    "\tf.close()#关闭文件，释放系统资源\n",
    "4.文件的读操作\n",
    "\tF.read(size=-1)\n",
    "\t说明:\n",
    "\t\t从文件流中最多读取size个字符(文本文件)或字节(二进制文件),如果不给出参数,则默认读取文件中文件所有内容返回。\n",
    "\tF.readline()\n",
    "\t\t读取一行数据，如果到达文件末尾则返回空行\n",
    "\tF.readlines(max_chars=-1)\n",
    "\t\t返回每行字符串的列表，max_chars最大字节数（字符数)"
   ]
  },
  {
   "cell_type": "code",
   "execution_count": 5,
   "metadata": {},
   "outputs": [
    {
     "name": "stdout",
     "output_type": "stream",
     "text": [
      "打开文件成功\n文件关闭\n"
     ]
    }
   ],
   "source": [
    "try:\n",
    "    file=open('myfile.txt','w',encoding='utf-8')\n",
    "    print('打开文件成功')\n",
    "\n",
    "#此处要进行读写\n",
    "#关闭文件\n",
    "    file.close()\n",
    "    print('文件关闭')\n",
    "except OSError:\n",
    "    print('打开文件失败')"
   ]
  },
  {
   "cell_type": "code",
   "execution_count": 9,
   "metadata": {},
   "outputs": [
    {
     "name": "stdout",
     "output_type": "stream",
     "text": [
      "打开文件成功\n读到 0 个字符\n内容是： \n文件关闭\n"
     ]
    }
   ],
   "source": [
    "try:\n",
    "    file1=open('myfile.txt','r',encoding='utf-8')\n",
    "    print('打开文件成功')\n",
    "    s=file1.read()#读取全部内容形参字符串绑定s\n",
    "    print('读到',len(s),'个字符')\n",
    "    print('内容是：',s)\n",
    "#此处要进行读写\n",
    "#关闭文件\n",
    "    file1.close()\n",
    "    print('文件关闭')\n",
    "except OSError:\n",
    "    print('打开文件失败')"
   ]
  },
  {
   "cell_type": "markdown",
   "metadata": {},
   "source": [
    "## 文件的写操作\n",
    "- F.write（text)\n",
    "\t说明：\n",
    "\t\t写一个字符串到文件流中,返回写入的字符数（文件文本）或字节数（二进制文件）"
   ]
  },
  {
   "cell_type": "code",
   "execution_count": 11,
   "metadata": {},
   "outputs": [
    {
     "name": "stdout",
     "output_type": "stream",
     "text": [
      "文件打开成功\n"
     ]
    }
   ],
   "source": [
    "try:\n",
    "    f=open('mynote.txt','w',encoding='utf-8')\n",
    "    #W代表写模式\n",
    "    print('文件打开成功')\n",
    "    f.write('hello')\n",
    "    f.close()\n",
    "except OSError:\n",
    "    print('打开文件失败!')"
   ]
  },
  {
   "cell_type": "markdown",
   "metadata": {},
   "source": [
    "- F.writelines(lines)\n",
    "    说明:\n",
    "        "
   ]
  }
 ],
 "metadata": {
  "kernelspec": {
   "display_name": "Python 2",
   "language": "python",
   "name": "python2"
  },
  "language_info": {
   "codemirror_mode": {
    "name": "ipython",
    "version": 2
   },
   "file_extension": ".py",
   "mimetype": "text/x-python",
   "name": "python",
   "nbconvert_exporter": "python",
   "pygments_lexer": "ipython2",
   "version": "2.7.6"
  }
 },
 "nbformat": 4,
 "nbformat_minor": 0
}
