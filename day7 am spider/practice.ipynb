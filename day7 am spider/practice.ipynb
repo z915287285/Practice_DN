{
 "cells": [
  {
   "cell_type": "heading",
   "metadata": {
    "collapsed": true
   },
   "level": 1,
   "source": [
    "Day7"
   ]
  },
  {
   "cell_type": "markdown",
   "metadata": {},
   "source": [
    "# 练习\n",
    "## 昨天的百度贴吧爬虫改为函数版\n",
    "## 在函数版的基础上改成类版"
   ]
  },
  {
   "cell_type": "markdown",
   "metadata": {},
   "source": [
    "## 正则表达式\n",
    "### 动机\n",
    "\t- 文本处理已经成为计算机常见的工作之一\n",
    "\t- 对文本内容的搜索，定位，提取是逻辑比较复杂的工作\n",
    "\t- 为了快捷方便的解决上述问题，产生了正则表达式技术\n",
    "### 定义\n",
    "\t即文本的高级匹配模式，提供搜索，替换等功能。其本质是由一系列字符和特殊符号构成的字符串，这个字符串即为正则表达式\n",
    "### 目的\n",
    "\t1.掌握正则表达式符号\n",
    "\t2.知道什么是正则表达式，如何应用\n",
    "\t3.能够读懂正则表达式，编写简单的正则匹配\n",
    "\t4.会使用re模块操作正则表达式\n",
    "### 正则表达式特点\n",
    "\t1.方便文本处理\n",
    "\t2.支持语言众多\n",
    "\t3.使用灵活，变化多样\n",
    "### 1.数据分类\n",
    "\t1.\n",
    "\t2.写法2\n",
    "\t\t1.创建编译对象\n",
    "\t\t\tp = re.comlile('正则表达式',re.S)\n",
    "\t\t2.进行字符串匹配\n",
    "\t\t\tr_list = p.findall(html)\n",
    "\t3.常用方法\n",
    "\t\t1.match(s)字符串开头的第一个，返回对象\n",
    "\t\t2.search(s)从开始往后找，匹配第一个，返回对象\n",
    "\t\t3.group()从match或者search返回对象中取值\n",
    "\t\t4.findall()返回全部匹配，返回一个列表\n",
    "\t4.元字符\n",
    "\t\t. :匹配任意字符（不包括\\n)\n",
    "\t\t\\d:匹配一个字符\n",
    "\t\t\\s:空白字符--> ABE 或者 ACE 或者 ADE\n",
    "\t\t\\w:普通字符\n",
    "\t\t\\W:特殊字符\n",
    "\t\t\n",
    "\t\t*：0次或多次\n",
    "\t\t+:1次或多次\n",
    "\t\t?:0次或1次\n",
    "\t\t{m}:m次\n",
    "\t\t{m,n} m-n次 AB[1,3] --> ABC    ABBC       ABBBC\n",
    "\t5.贪婪模式和非贪婪模式匹配\n",
    "\t\t1.贪婪模式匹配（.*）:在整个表达式匹配成功的前提下，尽可能多的去匹配\n",
    "\t\t2.非贪婪模式匹配(.*?):在整个表达式匹配成功的前提下，尽可能少的去匹配\n",
    "\t6.正则表达式分组\n",
    "\t\t\n",
    "\t\t正则表达式分组练习\n",
    "\t\thtml  = '''\n",
    "\t\t<div class = \"animal\">\n",
    "\t\t  <p class = \"name\">\n",
    "\t\t\t<a title = \"Tiger\"></a>\n",
    "\t\t  </p>\n",
    "\t\t  <p class = \"contents\">\n",
    "\t\t\tTwo tigers two tigers run fast\n",
    "\t\t  </p>\n",
    "\t\t</div>\n",
    "\t\t<div class = \"animal\">\n",
    "\t\t  <p class = \"name\">\n",
    "\t\t\t<a title = \"rabbit\"></a>\n",
    "\t\t  </p>\n",
    "\t\t  <p class = \"contents\">\n",
    "\t\t\tsmall white rabbit white white\n",
    "\t\t  </p>\n",
    "\t\t</div>'''\n",
    "\t\t第一步：[('Tiger','Two tigers two tigers run fast'),('rabbit','small white rabbit white white')]\n",
    "\t\t第二步：\n",
    "\t\t\t动物名称： Tiger\n",
    "\t\t\t动物描述：Two tigers two tigers run fast\n",
    "\t\t\t***************************************\n",
    "\t\t\t动物名称： rabbit\n",
    "\t\t\t动物描述：small white rabbit white white\n",
    "### 2"
   ]
  },
  {
   "cell_type": "code",
   "execution_count": 6,
   "metadata": {},
   "outputs": [
    {
     "name": "stdout",
     "output_type": "stream",
     "text": [
      "['A B', 'C D']\n['A', 'C']\n[('A', 'B'), ('C', 'D')]\n"
     ]
    }
   ],
   "source": [
    "import re\n",
    "#说明：按照整体匹配出来，然后再匹配()中的内容\n",
    "#如果有2个或者多个(),则以元组的方式去显示\n",
    "s = 'A B C D'\n",
    "p1 = re.compile('\\w+\\s+\\w+')\n",
    "print(p1.findall(s))\n",
    "\n",
    "p2 = re.compile('(\\w+)\\s+\\w+')\n",
    "print(p2.findall(s))\n",
    "\n",
    "p3 = re.compile('(\\w+)\\s+(\\w+)')\n",
    "print(p3.findall(s))\n",
    "\n",
    "#\\w代表普通字符 \\s代表空白字符  +  1次或多次\n",
    "#第一步 ['A B','C D']\n",
    "#第二步 [('A','B'),('C','D')]\n",
    "#第三步 "
   ]
  },
  {
   "cell_type": "code",
   "execution_count": null,
   "metadata": {},
   "outputs": [],
   "source": []
  }
 ],
 "metadata": {
  "kernelspec": {
   "display_name": "Python 2",
   "language": "python",
   "name": "python2"
  },
  "language_info": {
   "codemirror_mode": {
    "name": "ipython",
    "version": 2
   },
   "file_extension": ".py",
   "mimetype": "text/x-python",
   "name": "python",
   "nbconvert_exporter": "python",
   "pygments_lexer": "ipython2",
   "version": "2.7.6"
  }
 },
 "nbformat": 4,
 "nbformat_minor": 0
}
