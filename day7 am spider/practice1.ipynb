{
 "cells": [
  {
   "cell_type": "heading",
   "metadata": {
    "collapsed": true
   },
   "level": 1,
   "source": [
    "Day 7"
   ]
  },
  {
   "cell_type": "markdown",
   "metadata": {},
   "source": [
    "# CSV文件模块的使用\n",
    "1.CSV模块的使用流程\n",
    "\t- 导入模块\n",
    "\t\timport csv\n",
    "\t- 打开文件\n",
    "\t\twith open('xxx.csv','a',encoding = 'utf-8') as f:\n",
    "\t\t\t1. a和a+ '追加'功能\n",
    "\t\t\t\ta 追加写\n",
    "\t\t\t\ta+ 追加读写(先读后写)\n",
    "\t\t\t2. r和r+\n",
    "\t\t\t\tr 只读\n",
    "\t\t\t\tr+ 读写（先读后写）\n",
    "\t\t\t3.w和w+\n",
    "\t\t\t\tw 只写\n",
    "\t\t\t\tw+写读（先写后读)\n",
    "\t- 初始化写入对象\n",
    "\t\twriter= csv.writer()\n",
    "\t- 写入数据"
   ]
  },
  {
   "cell_type": "markdown",
   "metadata": {},
   "source": [
    "# 案例：\n",
    "\t猫眼电影top100榜单爬取\n",
    "\t1.网址：url\n",
    "\t2.目标：爬取自己想要的数据\n",
    "\t3.保存：本地csv文件\n",
    "\t4.步骤：\n",
    "\t\t- 找url规律\n",
    "\t\t- 正则表达式\n",
    "\t\t\t'<div class=\"movie-item-info\">.*?title=\"(.*?)\".*?class=\"star\">(.*?)</p>.*?class=\"releasetime\">(.*?)</p>'"
   ]
  },
  {
   "cell_type": "code",
   "execution_count": 1,
   "metadata": {},
   "outputs": [],
   "source": []
  },
  {
   "cell_type": "code",
   "execution_count": null,
   "metadata": {},
   "outputs": [],
   "source": []
  }
 ],
 "metadata": {
  "kernelspec": {
   "display_name": "Python 2",
   "language": "python",
   "name": "python2"
  },
  "language_info": {
   "codemirror_mode": {
    "name": "ipython",
    "version": 2
   },
   "file_extension": ".py",
   "mimetype": "text/x-python",
   "name": "python",
   "nbconvert_exporter": "python",
   "pygments_lexer": "ipython2",
   "version": "2.7.6"
  }
 },
 "nbformat": 4,
 "nbformat_minor": 0
}
